{
 "cells": [
  {
   "cell_type": "markdown",
   "metadata": {},
   "source": [
    "## fits 파일 시각화"
   ]
  },
  {
   "cell_type": "code",
   "execution_count": 2,
   "metadata": {},
   "outputs": [
    {
     "data": {
      "image/png": "[encoded data removed]",
      "text/plain": [
       "<Figure size 576x432 with 1 Axes>"
      ]
     },
     "metadata": {
      "needs_background": "light"
     },
     "output_type": "display_data"
    }
   ],
   "source": [
    "from astropy.io import fits\n",
    "import numpy as np\n",
    "import matplotlib.pyplot as plt\n",
    "\n",
    "hdulist = fits.open('/Users/munpyeong-an/Documents/학교/1학기/CRA 방학프로젝트/방학 전 계획/수집 폴더/데이터셋/SpaceBasedTraining/Data.0/Private/Band1/NoLensImage/imageEUC_VIS-100002.fits')\n",
    "data = hdulist[0].data\n",
    "header = hdulist[0].header\n",
    "\n",
    "graph = np.array(data, dtype=np.float32)\n",
    "\n",
    "max_value = np.percentile(graph, 99.8)\n",
    "min_value = np.percentile(graph, 10)\n",
    "\n",
    "plt.figure(figsize=(8,6))\n",
    "image_matplotlib = plt.imshow(graph, cmap='nipy_spectral', vmax=max_value, vmin=min_value, origin='lower')\n",
    "plt.show()"
   ]
  },
  {
   "cell_type": "code",
   "execution_count": 5,
   "metadata": {},
   "outputs": [
    {
     "data": {
      "text/plain": [
       "SIMPLE  =                    T / file does conform to FITS standard             \n",
       "BITPIX  =                  -32 / number of bits per data pixel                  \n",
       "NAXIS   =                    2 / number of data axes                            \n",
       "NAXIS1  =                  101 / length of data axis 1                          \n",
       "NAXIS2  =                  101 / length of data axis 2                          \n",
       "EXTEND  =                    T / FITS dataset may contain extensions            \n",
       "COMMENT   FITS (Flexible Image Transport System) format is defined in 'Astronomy\n",
       "COMMENT   and Astrophysics', volume 376, page 359; bibcode: 2001A&A...376..359H \n",
       "WCSAXES =                    2 / number of World Coordinate System axes         \n",
       "CRPIX1  =                  51. / x-coordinate of reference pixel                \n",
       "CRPIX2  =                  51. / y-coordinate of reference pixel                \n",
       "CRVAL1  =                   0. / first axis value at reference pixel            \n",
       "CRVAL2  =                   0. / second axis value at reference pixel           \n",
       "CTYPE1  = 'RA---TAN'           / the coordinate type for the first axis         \n",
       "CTYPE2  = 'DEC--TAN'           / the coordinate type for the second axis        \n",
       "CUNIT1  = 'deg     '           / the coordinate unit for the first axis         \n",
       "CUNIT2  = 'deg     '           / the coordinate unit for the second axis        \n",
       "CDELT1  = -2.7777774714293E-05 / partial of first axis coordinate w.r.t. x      \n",
       "CDELT2  =  2.7777774714293E-05 / partial of second axis coordinate w.r.t. y     \n",
       "CROTA2  =                   0.                                                  \n",
       "CD1_1   = -2.7777774714293E-05 / partial of first axis coordinate w.r.t. x      \n",
       "CD1_2   =                   0. / partial of first axis coordinate w.r.t. y      \n",
       "CD2_1   =                   0. / partial of second axis coordinate w.r.t. x     \n",
       "CD2_2   =  2.7777774714293E-05 / partial of second axis coordinate w.r.t. y     \n",
       "NX      =                  101                                                  \n",
       "NY      =                  101                                                  \n",
       "HIERARCH range x = 4.89661817911E-05 / radians                                  \n",
       "RA      = -0.000421521941791019 / radians                                       \n",
       "DEC     = -0.00128076675538848 / radians                                        "
      ]
     },
     "execution_count": 5,
     "metadata": {},
     "output_type": "execute_result"
    }
   ],
   "source": [
    "header"
   ]
  },
  {
   "cell_type": "code",
   "execution_count": 11,
   "metadata": {},
   "outputs": [
    {
     "data": {
      "text/plain": [
       "array([0., 0., 0., 0., 0., 0., 0., 0., 0., 0., 0., 0., 0., 0., 0., 0., 0.,\n",
       "       0., 0., 0., 0., 0., 0., 0., 0., 0., 0., 0., 0., 0., 0., 0., 0., 0.,\n",
       "       0., 0., 0., 0., 0., 0., 0., 0., 0., 0., 0., 0., 0., 0., 0., 0., 0.,\n",
       "       0., 0., 0., 0., 0., 0., 0., 0., 0., 0., 0., 0., 0., 0., 0., 0., 0.,\n",
       "       0., 0., 0., 0., 0., 0., 0., 0., 0., 0., 0., 0., 0., 0., 0., 0., 0.,\n",
       "       0., 0., 0., 0., 0., 0., 0., 0., 0., 0., 0., 0., 0., 0., 0., 0.],\n",
       "      dtype=float32)"
      ]
     },
     "execution_count": 11,
     "metadata": {},
     "output_type": "execute_result"
    }
   ],
   "source": [
    "graph[0]"
   ]
  }
 ],
 "metadata": {
  "kernelspec": {
   "display_name": "Python 3.9.12 ('base')",
   "language": "python",
   "name": "python3"
  },
  "language_info": {
   "codemirror_mode": {
    "name": "ipython",
    "version": 3
   },
   "file_extension": ".py",
   "mimetype": "text/x-python",
   "name": "python",
   "nbconvert_exporter": "python",
   "pygments_lexer": "ipython3",
   "version": "3.9.12"
  },
  "orig_nbformat": 4,
  "vscode": {
   "interpreter": {
    "hash": "dbd33639be27912e67b63c36cc4592861c73294a021e4e6829860efc4d8eb341"
   }
  }
 },
 "nbformat": 4,
 "nbformat_minor": 2
}
