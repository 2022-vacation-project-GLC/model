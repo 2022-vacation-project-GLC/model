{
 "cells": [
  {
   "cell_type": "markdown",
   "metadata": {},
   "source": [
    "## fits 파일 시각화"
   ]
  },
  {
   "cell_type": "code",
   "execution_count": 9,
   "metadata": {},
   "outputs": [
    {
     "data": {
      "image/png": "[encoded data removed]",
      "text/plain": [
       "<Figure size 576x432 with 1 Axes>"
      ]
     },
     "metadata": {
      "needs_background": "light"
     },
     "output_type": "display_data"
    }
   ],
   "source": [
    "from astropy.io import fits\n",
    "import numpy as np\n",
    "import matplotlib.pyplot as plt\n",
    "\n",
    "hdulist = fits.open('/Users/munpyeong-an/Documents/학교/1학기/CRA 방학프로젝트/방학 전 계획/수집 폴더/데이터셋/Sci-MBILICKI-OMEGACAM-------OCAM_u_SDSS---Coadd-GAstrom-Sci-58245.7773469-6cb277f1537f7de3dfe0fc36f74058a93cc7d1b6.fits')\n",
    "data = hdulist[0].data\n",
    "header = hdulist[0].header\n",
    "\n",
    "graph = np.array(data, dtype=np.float32)\n",
    "\n",
    "max_value = np.percentile(graph, 99.8)\n",
    "min_value = np.percentile(graph, 60)\n",
    "\n",
    "plt.figure(figsize=(8,6))\n",
    "image_matplotlib = plt.imshow(graph, cmap='nipy_spectral', vmax=max_value, vmin=min_value, origin='lower')\n",
    "plt.show()"
   ]
  },
  {
   "cell_type": "code",
   "execution_count": 10,
   "metadata": {},
   "outputs": [
    {
     "data": {
      "text/plain": [
       "SIMPLE  =                    T / conforms to FITS standard                      \n",
       "BITPIX  =                  -32 / array data type                                \n",
       "NAXIS   =                    2 / number of array dimensions                     \n",
       "NAXIS1  =                18586 / Number of pixels along this axis               \n",
       "NAXIS2  =                19629 / Number of pixels along this axis               \n",
       "EXTEND  =                    T / This file may contain FITS extensions          \n",
       "OBJECT  = 'KIDS_9.5_-33.1'                                                      \n",
       "ZEROPNT =                  0.0                                                  \n",
       "ZPNTERR =                  0.0                                                  \n",
       "CREADATE= '2018-05-07T18:42:46.000'                                             \n",
       "PSF_RAD =    1.092208051681518                                                  \n",
       "INSTRUME= 'OMEGACAM'                                                            \n",
       "TELESCOP= 'ESO-VLT-U0'                                                          \n",
       "TEL_LAT =             -24.6259                                                  \n",
       "TEL_LONG=             -70.4032                                                  \n",
       "TEL_ELEV=               2648.0                                                  \n",
       "TEL_ZONE=                  4.0                                                  \n",
       "FILT_ID = 'OCAM_u_SDSS'                                                         \n",
       "CTYPE1  = 'RA---TAN'           / WCS projection type for this axis              \n",
       "CRVAL1  =    9.504950494999999 / World coordinate on this axis                  \n",
       "CRPIX1  =               9427.0 / Reference pixel on this axis                   \n",
       "CTYPE2  = 'DEC--TAN'           / WCS projection type for this axis              \n",
       "CRVAL2  =         -33.13736264 / World coordinate on this axis                  \n",
       "CRPIX2  =               9508.0 / Reference pixel on this axis                   \n",
       "CD1_1   =     -5.555555638E-05 / Linear projection matrix                       \n",
       "CD1_2   =                  0.0 / Linear projection matrix                       \n",
       "CD2_1   =                  0.0 / Linear projection matrix                       \n",
       "CD2_2   =      5.555555638E-05 / Linear projection matrix                       \n",
       "CUNIT1  = 'deg     '           / Axis unit                                      \n",
       "CUNIT2  = 'deg     '           / Axis unit                                      \n",
       "STATMIN = -6.6352257022117E-08                                                  \n",
       "STATMAX = 1.93217928767808E-07                                                  \n",
       "STATMEAN= 1.29172360589135E-12                                                  \n",
       "STATDEV = 2.16009537211468E-10                                                  \n",
       "STATMED = 2.72093084825383E-13                                                  \n",
       "STAT_X0 =                    1                                                  \n",
       "STAT_Y0 =                    1                                                  \n",
       "STAT_X1 =                18586                                                  \n",
       "STAT_Y1 =                19629                                                  \n",
       "STATMINX=                 6779                                                  \n",
       "STATMINY=                14500                                                  \n",
       "STATMAXX=                 5920                                                  \n",
       "STATMAXY=                 8384                                                  \n",
       "STATNPIX=            364824594                                                  \n",
       "OBS_ID  =               921324                                                  \n",
       "OBS_DID = 'ESO-VLT-DIC.OBS-2.0'                                                 \n",
       "OBS_GRP = '0       '                                                            \n",
       "OBS_NAME= 'KIDS_9.5_-33.1_u'                                                    \n",
       "OBS_PIID=                76168                                                  \n",
       "OBS_PINA= 'UNKNOWN '                                                            \n",
       "OBS_PID = '177.A-3016(H)'                                                       \n",
       "OBS_STRT= '2017-10-18T01:28:24'                                                 \n",
       "TPL_CATG= 'SCIENCE '                                                            \n",
       "TPL_DID = 'ESO-VLT-DIC.TPL-1.9'                                                 \n",
       "TPL_NEXP=                    4                                                  \n",
       "TPL_ID  = 'OMEGACAM_img_obs_dither'                                             \n",
       "TPL_INDX=                    2                                                  \n",
       "TPL_NAME= 'OMEGACAM dither mode sequence'                                       \n",
       "TPL_SEQ = 'OMEGACAM_img_obs_dither.seq'                                         \n",
       "TPL_STRT= '2017-10-18T01:32:29'                                                 \n",
       "TPL_STGY= 'Mosaic  '                                                            \n",
       "TPL_TECH= 'IMAGE,DITHER'                                                        \n",
       "TPL_TYPE= 'OBJECT  '                                                            \n",
       "TPL_VERS= '1.0     '                                                            \n",
       "EXPTIME =                  0.0 / Maximum equivalent exposure time (s)           \n",
       "GAIN    =      3123618393000.0 / Maximum equivalent gain (e-/ADU)               \n",
       "SATURATE=      1.035515365E-07 / Saturation Level (ADU)                         \n",
       "HISTORY Extra keys from SWarp header                                            \n",
       "HISTORY EQUINOX =            2000.0000 / Mean equinox                           \n",
       "HISTORY RADECSYS= 'ICRS    '           / Astrometric system                     \n",
       "HISTORY SOFTNAME= 'SWarp   '           / The software that processed those data \n",
       "HISTORY SOFTVERS= '2.17.6  '           / Version of the software                \n",
       "HISTORY SOFTDATE= '2018-01-19'         / Release date of the software           \n",
       "HISTORY SOFTAUTH= 'Emmanuel BERTIN <bertin@iap.fr>' / Maintainer of the software\n",
       "HISTORY SOFTINST= 'IAP  http://www.iap.fr' / Institute                          \n",
       "HISTORY AUTHOR  = 'unknown '           / Who ran the software                   \n",
       "HISTORY ORIGIN  = 'application16.target.rug.nl' / Where it was done             \n",
       "HISTORY DATE    = '2018-05-07T18:39:36' / When it was started (GMT)             \n",
       "HISTORY COMBINET= 'WEIGHTED'           / COMBINE_TYPE config parameter for SWarp\n",
       "HISTORY RESAMPT1= 'LANCZOS3'           / RESAMPLING_TYPE config parameter       \n",
       "HISTORY CENTERT1= 'ALL     '           / CENTER_TYPE config parameter           \n",
       "HISTORY PSCALET1= 'MEDIAN  '           / PIXELSCALE_TYPE config parameter       \n",
       "HISTORY RESAMPT2= 'LANCZOS3'           / RESAMPLING_TYPE config parameter       \n",
       "HISTORY CENTERT2= 'ALL     '           / CENTER_TYPE config parameter           \n",
       "HISTORY PSCALET2= 'MEDIAN  '           / PIXELSCALE_TYPE config parameter       "
      ]
     },
     "execution_count": 10,
     "metadata": {},
     "output_type": "execute_result"
    }
   ],
   "source": [
    "header"
   ]
  },
  {
   "cell_type": "code",
   "execution_count": null,
   "metadata": {},
   "outputs": [],
   "source": []
  }
 ],
 "metadata": {
  "interpreter": {
   "hash": "3067ead486e059ec00ffe7555bdb889e6e264a24dc711bf108106cc7baee8d5d"
  },
  "kernelspec": {
   "display_name": "Python 3.9.12 ('base')",
   "language": "python",
   "name": "python3"
  },
  "language_info": {
   "codemirror_mode": {
    "name": "ipython",
    "version": 3
   },
   "file_extension": ".py",
   "mimetype": "text/x-python",
   "name": "python",
   "nbconvert_exporter": "python",
   "pygments_lexer": "ipython3",
   "version": "3.9.12"
  },
  "orig_nbformat": 4
 },
 "nbformat": 4,
 "nbformat_minor": 2
}
