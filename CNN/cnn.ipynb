{
 "cells": [
  {
   "cell_type": "markdown",
   "metadata": {},
   "source": [
    "## fits 파일 시각화"
   ]
  },
  {
   "cell_type": "code",
   "execution_count": 7,
   "metadata": {},
   "outputs": [
    {
     "data": {
      "image/png": "[encoded data removed]",
      "text/plain": [
       "<Figure size 576x432 with 1 Axes>"
      ]
     },
     "metadata": {
      "needs_background": "light"
     },
     "output_type": "display_data"
    }
   ],
   "source": [
    "from astropy.io import fits\n",
    "import numpy as np\n",
    "import matplotlib.pyplot as plt\n",
    "place_p = \"/Users/munpyeong-an/Documents/학교/1학기/CRA 방학프로젝트/방학 전 계획/수집 폴더/데이터셋/SpaceBasedTraining/Data.0/Private/Band1/NoLensImage/imageEUC_VIS-100002.fits\"\n",
    "place_d = \"D:\\\\GLC_dataset\\\\train\\\\Data.0\\\\Data.0\\\\Private\\Band1\\\\NoLensImage\\\\imageEUC_VIS-100002.fits\"\n",
    "hdulist = fits.open(place_d)\n",
    "data = hdulist[0].data\n",
    "header = hdulist[0].header\n",
    "\n",
    "graph = np.array(data, dtype=np.float32)\n",
    "\n",
    "max_value = np.percentile(graph, 99.8)\n",
    "min_value = np.percentile(graph, 10)\n",
    "\n",
    "plt.figure(figsize=(8,6))\n",
    "image_matplotlib = plt.imshow(graph, cmap='nipy_spectral', vmax=max_value, vmin=min_value, origin='lower')\n",
    "plt.show()"
   ]
  },
  {
   "cell_type": "code",
   "execution_count": 5,
   "metadata": {},
   "outputs": [
    {
     "data": {
      "text/plain": [
       "SIMPLE  =                    T / file does conform to FITS standard             \n",
       "BITPIX  =                  -32 / number of bits per data pixel                  \n",
       "NAXIS   =                    2 / number of data axes                            \n",
       "NAXIS1  =                  101 / length of data axis 1                          \n",
       "NAXIS2  =                  101 / length of data axis 2                          \n",
       "EXTEND  =                    T / FITS dataset may contain extensions            \n",
       "COMMENT   FITS (Flexible Image Transport System) format is defined in 'Astronomy\n",
       "COMMENT   and Astrophysics', volume 376, page 359; bibcode: 2001A&A...376..359H \n",
       "WCSAXES =                    2 / number of World Coordinate System axes         \n",
       "CRPIX1  =                  51. / x-coordinate of reference pixel                \n",
       "CRPIX2  =                  51. / y-coordinate of reference pixel                \n",
       "CRVAL1  =                   0. / first axis value at reference pixel            \n",
       "CRVAL2  =                   0. / second axis value at reference pixel           \n",
       "CTYPE1  = 'RA---TAN'           / the coordinate type for the first axis         \n",
       "CTYPE2  = 'DEC--TAN'           / the coordinate type for the second axis        \n",
       "CUNIT1  = 'deg     '           / the coordinate unit for the first axis         \n",
       "CUNIT2  = 'deg     '           / the coordinate unit for the second axis        \n",
       "CDELT1  = -2.7777774714293E-05 / partial of first axis coordinate w.r.t. x      \n",
       "CDELT2  =  2.7777774714293E-05 / partial of second axis coordinate w.r.t. y     \n",
       "CROTA2  =                   0.                                                  \n",
       "CD1_1   = -2.7777774714293E-05 / partial of first axis coordinate w.r.t. x      \n",
       "CD1_2   =                   0. / partial of first axis coordinate w.r.t. y      \n",
       "CD2_1   =                   0. / partial of second axis coordinate w.r.t. x     \n",
       "CD2_2   =  2.7777774714293E-05 / partial of second axis coordinate w.r.t. y     \n",
       "NX      =                  101                                                  \n",
       "NY      =                  101                                                  \n",
       "HIERARCH range x = 4.89661817911E-05 / radians                                  \n",
       "RA      = -0.000421521941791019 / radians                                       \n",
       "DEC     = -0.00128076675538848 / radians                                        "
      ]
     },
     "execution_count": 5,
     "metadata": {},
     "output_type": "execute_result"
    }
   ],
   "source": [
    "header"
   ]
  },
  {
   "cell_type": "code",
   "execution_count": 11,
   "metadata": {},
   "outputs": [
    {
     "data": {
      "text/plain": [
       "array([0., 0., 0., 0., 0., 0., 0., 0., 0., 0., 0., 0., 0., 0., 0., 0., 0.,\n",
       "       0., 0., 0., 0., 0., 0., 0., 0., 0., 0., 0., 0., 0., 0., 0., 0., 0.,\n",
       "       0., 0., 0., 0., 0., 0., 0., 0., 0., 0., 0., 0., 0., 0., 0., 0., 0.,\n",
       "       0., 0., 0., 0., 0., 0., 0., 0., 0., 0., 0., 0., 0., 0., 0., 0., 0.,\n",
       "       0., 0., 0., 0., 0., 0., 0., 0., 0., 0., 0., 0., 0., 0., 0., 0., 0.,\n",
       "       0., 0., 0., 0., 0., 0., 0., 0., 0., 0., 0., 0., 0., 0., 0., 0.],\n",
       "      dtype=float32)"
      ]
     },
     "execution_count": 11,
     "metadata": {},
     "output_type": "execute_result"
    }
   ],
   "source": [
    "graph[0]"
   ]
  },
  {
   "cell_type": "markdown",
   "metadata": {},
   "source": [
    "# 데이터 병합"
   ]
  },
  {
   "cell_type": "code",
   "execution_count": 10,
   "metadata": {},
   "outputs": [],
   "source": [
    "from astropy.table import Table\n",
    "import astropy.io.fits as fits\n",
    "import numpy as np\n",
    "\n",
    "# loads the catalog\n",
    "#cat_p = Table.read('/Users/munpyeong-an/Documents/학교/1학기/CRA 방학프로젝트/방학 전 계획/수집 폴더/데이터셋/SpaceBasedTraining/classifications.csv')\n",
    "cat_d = Table.read(\"D:\\\\GLC_dataset\\\\train\\\\classifications.csv\")\n",
    "d_array = np.zeros((20000, 1, 101, 101))\n",
    "\n",
    "file_p1 = '/Users/munpyeong-an/Documents/학교/1학기/CRA 방학프로젝트/방학 전 계획/수집 폴더/데이터셋/SpaceBasedTraining/Data.0/Public/Band1/imageEUC_VIS-'\n",
    "file_p2 =  '/Users/munpyeong-an/Documents/학교/1학기/CRA 방학프로젝트/방학 전 계획/수집 폴더/데이터셋/SpaceBasedTraining/Data.1/Public/Band1/imageEUC_VIS-'\n",
    "file_d1 = \"D:\\\\GLC_dataset\\\\train\\\\Data.0\\\\Data.0\\\\Private\\Band1\\\\NoLensImage\\\\imageEUC_VIS-\"\n",
    "file_d2 = \"D:\\\\GLC_dataset\\\\train\\\\Data.1\\\\Data.1\\\\Private\\Band1\\\\NoLensImage\\\\imageEUC_VIS-\"\n",
    "# loads the images\n",
    "for i, id in enumerate(cat_d['ID']):\n",
    "  try:\n",
    "    ims = fits.open(file_d1+str(id)+'.fits')\n",
    "    data = ims[0].data\n",
    "    d_array[i] = np.array(data)\n",
    "  except IOError:\n",
    "    ims = fits.open(file_d2+str(id)+'.fits')\n",
    "    data = ims[0].data\n",
    "    d_array[i] = np.array(data)\n",
    "\n",
    "# Concatenate images to catalog\n",
    "cat_d['image'] = d_array[i]\n",
    "\n",
    "cat_d.write('catalogs.hdf5', path='\\space', append=True)"
   ]
  },
  {
   "cell_type": "code",
   "execution_count": 10,
   "metadata": {},
   "outputs": [],
   "source": [
    "from astropy.table import Table\n",
    "\n",
    "# Loads the table created in the previous section\n",
    "d = Table.read('catalogs.hdf5')"
   ]
  },
  {
   "cell_type": "code",
   "execution_count": 11,
   "metadata": {},
   "outputs": [
    {
     "data": {
      "text/html": [
       "<div><i>Table length=20000</i>\n",
       "<table id=\"table140554095180432\" class=\"table-striped table-bordered table-condensed\">\n",
       "<thead><tr><th>ID</th><th>is_lens</th><th>Einstein_area</th><th>numb_pix_lensed_image</th><th>flux_lensed_image_in_sigma</th><th>image [101,101]</th></tr></thead>\n",
       "<thead><tr><th>int64</th><th>int64</th><th>float64</th><th>int64</th><th>float64</th><th>float64</th></tr></thead>\n",
       "<tr><td>100000</td><td>1</td><td>8.63376e-10</td><td>171</td><td>195.429</td><td>7.714997802936441e-13 .. 2.900503730425552e-13</td></tr>\n",
       "<tr><td>100001</td><td>1</td><td>1.31789e-10</td><td>294</td><td>855.589</td><td>7.714997802936441e-13 .. 2.900503730425552e-13</td></tr>\n",
       "<tr><td>100002</td><td>1</td><td>4.87725e-12</td><td>140</td><td>486.113</td><td>7.714997802936441e-13 .. 2.900503730425552e-13</td></tr>\n",
       "<tr><td>100003</td><td>1</td><td>1.44016e-09</td><td>1500</td><td>10467.4</td><td>7.714997802936441e-13 .. 2.900503730425552e-13</td></tr>\n",
       "<tr><td>100004</td><td>0</td><td>2.19735e-11</td><td>0</td><td>0.0</td><td>7.714997802936441e-13 .. 2.900503730425552e-13</td></tr>\n",
       "<tr><td>100005</td><td>0</td><td>2.80493e-10</td><td>0</td><td>0.0</td><td>7.714997802936441e-13 .. 2.900503730425552e-13</td></tr>\n",
       "<tr><td>100006</td><td>0</td><td>2.26143e-10</td><td>0</td><td>0.0</td><td>7.714997802936441e-13 .. 2.900503730425552e-13</td></tr>\n",
       "<tr><td>100007</td><td>1</td><td>1.46681e-10</td><td>213</td><td>829.363</td><td>7.714997802936441e-13 .. 2.900503730425552e-13</td></tr>\n",
       "<tr><td>100008</td><td>1</td><td>5.51284e-11</td><td>812</td><td>9446.66</td><td>7.714997802936441e-13 .. 2.900503730425552e-13</td></tr>\n",
       "<tr><td>100009</td><td>0</td><td>1.60817e-09</td><td>0</td><td>0.0</td><td>7.714997802936441e-13 .. 2.900503730425552e-13</td></tr>\n",
       "<tr><td>...</td><td>...</td><td>...</td><td>...</td><td>...</td><td>...</td></tr>\n",
       "<tr><td>119990</td><td>1</td><td>6.96823e-11</td><td>2365</td><td>28427.7</td><td>7.714997802936441e-13 .. 2.900503730425552e-13</td></tr>\n",
       "<tr><td>119991</td><td>1</td><td>3.06125e-12</td><td>143</td><td>623.308</td><td>7.714997802936441e-13 .. 2.900503730425552e-13</td></tr>\n",
       "<tr><td>119992</td><td>1</td><td>6.60581e-10</td><td>683</td><td>949.969</td><td>7.714997802936441e-13 .. 2.900503730425552e-13</td></tr>\n",
       "<tr><td>119993</td><td>1</td><td>2.67211e-12</td><td>80</td><td>508.994</td><td>7.714997802936441e-13 .. 2.900503730425552e-13</td></tr>\n",
       "<tr><td>119994</td><td>0</td><td>3.86625e-10</td><td>0</td><td>0.0</td><td>7.714997802936441e-13 .. 2.900503730425552e-13</td></tr>\n",
       "<tr><td>119995</td><td>0</td><td>1.04184e-09</td><td>0</td><td>0.0</td><td>7.714997802936441e-13 .. 2.900503730425552e-13</td></tr>\n",
       "<tr><td>119996</td><td>1</td><td>4.85026e-10</td><td>0</td><td>0.0</td><td>7.714997802936441e-13 .. 2.900503730425552e-13</td></tr>\n",
       "<tr><td>119997</td><td>0</td><td>1.39572e-11</td><td>0</td><td>0.0</td><td>7.714997802936441e-13 .. 2.900503730425552e-13</td></tr>\n",
       "<tr><td>119998</td><td>1</td><td>4.25151e-10</td><td>1024</td><td>4566.21</td><td>7.714997802936441e-13 .. 2.900503730425552e-13</td></tr>\n",
       "<tr><td>119999</td><td>1</td><td>4.51405e-12</td><td>262</td><td>1741.43</td><td>7.714997802936441e-13 .. 2.900503730425552e-13</td></tr>\n",
       "</table></div>"
      ],
      "text/plain": [
       "<Table length=20000>\n",
       "  ID   is_lens ...                image [101,101]                \n",
       "int64   int64  ...                    float64                    \n",
       "------ ------- ... ----------------------------------------------\n",
       "100000       1 ... 7.714997802936441e-13 .. 2.900503730425552e-13\n",
       "100001       1 ... 7.714997802936441e-13 .. 2.900503730425552e-13\n",
       "100002       1 ... 7.714997802936441e-13 .. 2.900503730425552e-13\n",
       "100003       1 ... 7.714997802936441e-13 .. 2.900503730425552e-13\n",
       "100004       0 ... 7.714997802936441e-13 .. 2.900503730425552e-13\n",
       "100005       0 ... 7.714997802936441e-13 .. 2.900503730425552e-13\n",
       "100006       0 ... 7.714997802936441e-13 .. 2.900503730425552e-13\n",
       "100007       1 ... 7.714997802936441e-13 .. 2.900503730425552e-13\n",
       "100008       1 ... 7.714997802936441e-13 .. 2.900503730425552e-13\n",
       "100009       0 ... 7.714997802936441e-13 .. 2.900503730425552e-13\n",
       "   ...     ... ...                                            ...\n",
       "119990       1 ... 7.714997802936441e-13 .. 2.900503730425552e-13\n",
       "119991       1 ... 7.714997802936441e-13 .. 2.900503730425552e-13\n",
       "119992       1 ... 7.714997802936441e-13 .. 2.900503730425552e-13\n",
       "119993       1 ... 7.714997802936441e-13 .. 2.900503730425552e-13\n",
       "119994       0 ... 7.714997802936441e-13 .. 2.900503730425552e-13\n",
       "119995       0 ... 7.714997802936441e-13 .. 2.900503730425552e-13\n",
       "119996       1 ... 7.714997802936441e-13 .. 2.900503730425552e-13\n",
       "119997       0 ... 7.714997802936441e-13 .. 2.900503730425552e-13\n",
       "119998       1 ... 7.714997802936441e-13 .. 2.900503730425552e-13\n",
       "119999       1 ... 7.714997802936441e-13 .. 2.900503730425552e-13"
      ]
     },
     "execution_count": 11,
     "metadata": {},
     "output_type": "execute_result"
    }
   ],
   "source": [
    "d"
   ]
  },
  {
   "cell_type": "markdown",
   "metadata": {},
   "source": [
    "# 모델"
   ]
  },
  {
   "cell_type": "code",
   "execution_count": 2,
   "metadata": {},
   "outputs": [
    {
     "ename": "ModuleNotFoundError",
     "evalue": "No module named 'tensorflow'",
     "output_type": "error",
     "traceback": [
      "\u001b[0;31m---------------------------------------------------------------------------\u001b[0m",
      "\u001b[0;31mModuleNotFoundError\u001b[0m                       Traceback (most recent call last)",
      "\u001b[1;32m/Users/munpyeong-an/Desktop/vacation project/CNN/cnn.ipynb 셀 10\u001b[0m in \u001b[0;36m<cell line: 1>\u001b[0;34m()\u001b[0m\n\u001b[0;32m----> <a href='vscode-notebook-cell:/Users/munpyeong-an/Desktop/vacation%20project/CNN/cnn.ipynb#ch0000010?line=0'>1</a>\u001b[0m \u001b[39mimport\u001b[39;00m \u001b[39mtensorflow\u001b[39;00m \u001b[39mas\u001b[39;00m \u001b[39mtf\u001b[39;00m\n\u001b[1;32m      <a href='vscode-notebook-cell:/Users/munpyeong-an/Desktop/vacation%20project/CNN/cnn.ipynb#ch0000010?line=1'>2</a>\u001b[0m \u001b[39mfrom\u001b[39;00m \u001b[39mtensorflow\u001b[39;00m\u001b[39m.\u001b[39;00m\u001b[39mkeras\u001b[39;00m \u001b[39mimport\u001b[39;00m layers, models\n",
      "\u001b[0;31mModuleNotFoundError\u001b[0m: No module named 'tensorflow'"
     ]
    }
   ],
   "source": [
    "import tensorflow as tf\n",
    "from tensorflow.keras import layers, models"
   ]
  }
 ],
 "metadata": {
  "kernelspec": {
   "display_name": "Python 3.8.13 ('GLC')",
   "language": "python",
   "name": "python3"
  },
  "language_info": {
   "codemirror_mode": {
    "name": "ipython",
    "version": 3
   },
   "file_extension": ".py",
   "mimetype": "text/x-python",
   "name": "python",
   "nbconvert_exporter": "python",
   "pygments_lexer": "ipython3",
   "version": "3.8.13"
  },
  "orig_nbformat": 4,
  "vscode": {
   "interpreter": {
    "hash": "47a762b1c0c951a86b7914179f2f33181357605566a023ccb5ffc75de4ce7fdf"
   }
  }
 },
 "nbformat": 4,
 "nbformat_minor": 2
}
