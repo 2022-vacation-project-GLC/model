{
 "cells": [
  {
   "cell_type": "markdown",
   "metadata": {},
   "source": [
    "chapter2 에서는 기본적인 perceptron algorithm에 관하여 공부한다.\n",
    "입렵값과 가중치 그리고 임계값이 존재한다.\n",
    "퍼셉트론은 입렵값과 가중치를 서로 곱한뒤 그 값이 임계값보다 크면 1을 작으면 0을 출력하는 알고리즘이다.\n",
    "이것을 이용하여 기본적인 AND NADA OR GATE를 구성 할 수 있다.\n",
    "이번 페이지 에서는 이 세가지를 구현 해보고자 한다."
   ]
  },
  {
   "cell_type": "markdown",
   "metadata": {},
   "source": [
    "첫번째는 AND GATE이다.\n",
    "진리표는 다음과 같다.\n",
    "0 0 0\n",
    "0 1 0\n",
    "1 0 0\n",
    "1 1 1"
   ]
  },
  {
   "cell_type": "code",
   "execution_count": 1,
   "metadata": {},
   "outputs": [
    {
     "name": "stdout",
     "output_type": "stream",
     "text": [
      "0\n",
      "0\n",
      "0\n",
      "1\n"
     ]
    }
   ],
   "source": [
    "def AND(a1,a2):\n",
    "    w1,w2,theta = 0.5,0.5,0.8\n",
    "    temp = a1*w1+a2*w2\n",
    "    if temp > theta:\n",
    "        return 1\n",
    "    else:\n",
    "        return 0\n",
    "    \n",
    "print(AND(0,0))\n",
    "print(AND(0,1))\n",
    "print(AND(1,0))\n",
    "print(AND(1,1))"
   ]
  },
  {
   "cell_type": "markdown",
   "metadata": {},
   "source": [
    "두번째는 NADA GATE이다.\n",
    "NOT AND이기에 모든 결과 값이 AND와 반대이다.\n",
    "진리표는 다음과 같다.\n",
    "0 0 1\n",
    "0 1 1\n",
    "1 0 1\n",
    "1 1 0"
   ]
  },
  {
   "cell_type": "code",
   "execution_count": 5,
   "metadata": {},
   "outputs": [
    {
     "name": "stdout",
     "output_type": "stream",
     "text": [
      "1\n",
      "1\n",
      "1\n",
      "0\n"
     ]
    }
   ],
   "source": [
    "def NADA(a1,a2):\n",
    "    w1,w2,theta = -0.5,-0.5,-0.8\n",
    "    temp = a1*w1+a2*w2\n",
    "    if temp > theta:\n",
    "        return 1\n",
    "    else:\n",
    "        return 0\n",
    "    \n",
    "print(NADA(0,0))\n",
    "print(NADA(0,1))\n",
    "print(NADA(1,0))\n",
    "print(NADA(1,1))"
   ]
  },
  {
   "cell_type": "markdown",
   "metadata": {},
   "source": [
    "세번째는 OR GATE이다.\n",
    "입력값 중 적어도 1개의 참이 존재하면 참을 출력하면 되는 것이다.\n",
    "진리표는 다음과 같다.\n",
    "0 0 0\n",
    "0 1 1\n",
    "1 0 1\n",
    "1 1 1"
   ]
  },
  {
   "cell_type": "code",
   "execution_count": 6,
   "metadata": {},
   "outputs": [
    {
     "name": "stdout",
     "output_type": "stream",
     "text": [
      "0\n",
      "1\n",
      "1\n",
      "1\n"
     ]
    }
   ],
   "source": [
    "def OR(a1,a2):\n",
    "    w1,w2,theta = 0.5,0.5,0.3\n",
    "    temp = a1*w1+a2*w2\n",
    "    if temp > theta:\n",
    "        return 1\n",
    "    else:\n",
    "        return 0\n",
    "\n",
    "print(OR(0,0))\n",
    "print(OR(0,1))\n",
    "print(OR(1,0))\n",
    "print(OR(1,1))"
   ]
  }
 ],
 "metadata": {
  "kernelspec": {
   "display_name": "Python 3.8.13 ('tensorflow-dev')",
   "language": "python",
   "name": "python3"
  },
  "language_info": {
   "codemirror_mode": {
    "name": "ipython",
    "version": 3
   },
   "file_extension": ".py",
   "mimetype": "text/x-python",
   "name": "python",
   "nbconvert_exporter": "python",
   "pygments_lexer": "ipython3",
   "version": "3.8.13"
  },
  "orig_nbformat": 4,
  "vscode": {
   "interpreter": {
    "hash": "e7eeedbc38737b45b3f3d9c30fb6c381a1d5f1910f05692e0cad4cfbf19e6b99"
   }
  }
 },
 "nbformat": 4,
 "nbformat_minor": 2
}
