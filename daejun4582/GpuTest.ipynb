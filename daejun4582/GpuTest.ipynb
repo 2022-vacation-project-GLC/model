{
 "cells": [
  {
   "cell_type": "code",
   "execution_count": 1,
   "metadata": {},
   "outputs": [],
   "source": [
    "\n",
    "import numpy as np\n",
    "import tensorflow as tf\n",
    "from tensorflow.keras.datasets import mnist\n",
    "from tensorflow.keras.models import Sequential\n",
    "from tensorflow.keras.layers import Conv2D, MaxPool2D, Flatten, Dense, Dropout"
   ]
  },
  {
   "cell_type": "code",
   "execution_count": 2,
   "metadata": {},
   "outputs": [
    {
     "name": "stdout",
     "output_type": "stream",
     "text": [
      "(60000, 28, 28, 1) (10000, 28, 28, 1)\n",
      "(60000,) (10000,)\n"
     ]
    }
   ],
   "source": [
    "(x_train, y_train),(x_test, y_test) = mnist.load_data()\n",
    "\n",
    "x_train=x_train.reshape(-1, 28, 28, 1)\n",
    "x_test=x_test.reshape(-1, 28, 28, 1)\n",
    "\n",
    "print(x_train.shape, x_test.shape)\n",
    "print(y_train.shape, y_test.shape)\n",
    "\n",
    "x_train = x_train.astype(np.float32) / 255.0\n",
    "x_test = x_test.astype(np.float32) / 255.0"
   ]
  },
  {
   "cell_type": "code",
   "execution_count": 3,
   "metadata": {},
   "outputs": [],
   "source": [
    "cnn = Sequential()\n",
    "\n",
    "cnn.add(Conv2D(input_shape=(28,28,1), kernel_size=(3,3),\n",
    "               filters=32, activation='relu'))\n",
    "cnn.add(Conv2D(kernel_size=(3,3), filters=64, activation='relu'))\n",
    "cnn.add(MaxPool2D(pool_size=(2,2)))\n",
    "cnn.add(Dropout(0.25))\n",
    "\n",
    "cnn.add(Flatten())\n",
    "\n",
    "cnn.add(Dense(128, activation='relu'))\n",
    "cnn.add(Dropout(0.5))\n",
    "cnn.add(Dense(10, activation='softmax'))"
   ]
  },
  {
   "cell_type": "code",
   "execution_count": 4,
   "metadata": {},
   "outputs": [
    {
     "name": "stdout",
     "output_type": "stream",
     "text": [
      "Model: \"sequential\"\n",
      "_________________________________________________________________\n",
      " Layer (type)                Output Shape              Param #   \n",
      "=================================================================\n",
      " conv2d (Conv2D)             (None, 26, 26, 32)        320       \n",
      "                                                                 \n",
      " conv2d_1 (Conv2D)           (None, 24, 24, 64)        18496     \n",
      "                                                                 \n",
      " max_pooling2d (MaxPooling2D  (None, 12, 12, 64)       0         \n",
      " )                                                               \n",
      "                                                                 \n",
      " dropout (Dropout)           (None, 12, 12, 64)        0         \n",
      "                                                                 \n",
      " flatten (Flatten)           (None, 9216)              0         \n",
      "                                                                 \n",
      " dense (Dense)               (None, 128)               1179776   \n",
      "                                                                 \n",
      " dropout_1 (Dropout)         (None, 128)               0         \n",
      "                                                                 \n",
      " dense_1 (Dense)             (None, 10)                1290      \n",
      "                                                                 \n",
      "=================================================================\n",
      "Total params: 1,199,882\n",
      "Trainable params: 1,199,882\n",
      "Non-trainable params: 0\n",
      "_________________________________________________________________\n"
     ]
    }
   ],
   "source": [
    "cnn.compile(loss='sparse_categorical_crossentropy',\n",
    "            optimizer=tf.keras.optimizers.Adam(), metrics=['accuracy'])\n",
    "\n",
    "cnn.summary()"
   ]
  },
  {
   "cell_type": "code",
   "execution_count": 5,
   "metadata": {},
   "outputs": [
    {
     "name": "stdout",
     "output_type": "stream",
     "text": [
      "Epoch 1/30\n",
      "469/469 [==============================] - 22s 35ms/step - loss: 0.2430 - accuracy: 0.9260 - val_loss: 0.0514 - val_accuracy: 0.9836\n",
      "Epoch 2/30\n",
      "469/469 [==============================] - 14s 29ms/step - loss: 0.0842 - accuracy: 0.9750 - val_loss: 0.0399 - val_accuracy: 0.9866\n",
      "Epoch 3/30\n",
      "469/469 [==============================] - 16s 35ms/step - loss: 0.0629 - accuracy: 0.9811 - val_loss: 0.0341 - val_accuracy: 0.9886\n",
      "Epoch 4/30\n",
      "469/469 [==============================] - 16s 35ms/step - loss: 0.0507 - accuracy: 0.9842 - val_loss: 0.0319 - val_accuracy: 0.9890\n",
      "Epoch 5/30\n",
      "469/469 [==============================] - 17s 35ms/step - loss: 0.0437 - accuracy: 0.9865 - val_loss: 0.0308 - val_accuracy: 0.9897\n",
      "Epoch 6/30\n",
      "469/469 [==============================] - 16s 35ms/step - loss: 0.0365 - accuracy: 0.9883 - val_loss: 0.0290 - val_accuracy: 0.9908\n",
      "Epoch 7/30\n",
      "469/469 [==============================] - 17s 36ms/step - loss: 0.0344 - accuracy: 0.9888 - val_loss: 0.0280 - val_accuracy: 0.9909\n",
      "Epoch 8/30\n",
      "469/469 [==============================] - 17s 36ms/step - loss: 0.0308 - accuracy: 0.9900 - val_loss: 0.0319 - val_accuracy: 0.9900\n",
      "Epoch 9/30\n",
      "469/469 [==============================] - 16s 35ms/step - loss: 0.0281 - accuracy: 0.9911 - val_loss: 0.0293 - val_accuracy: 0.9914\n",
      "Epoch 10/30\n",
      "469/469 [==============================] - 17s 36ms/step - loss: 0.0250 - accuracy: 0.9921 - val_loss: 0.0281 - val_accuracy: 0.9917\n",
      "Epoch 11/30\n",
      "469/469 [==============================] - 17s 37ms/step - loss: 0.0225 - accuracy: 0.9929 - val_loss: 0.0277 - val_accuracy: 0.9920\n",
      "Epoch 12/30\n",
      "469/469 [==============================] - 12s 27ms/step - loss: 0.0211 - accuracy: 0.9933 - val_loss: 0.0310 - val_accuracy: 0.9913\n",
      "Epoch 13/30\n",
      "469/469 [==============================] - 5s 11ms/step - loss: 0.0198 - accuracy: 0.9936 - val_loss: 0.0268 - val_accuracy: 0.9921\n",
      "Epoch 14/30\n",
      "469/469 [==============================] - 5s 11ms/step - loss: 0.0167 - accuracy: 0.9944 - val_loss: 0.0271 - val_accuracy: 0.9928\n",
      "Epoch 15/30\n",
      "469/469 [==============================] - 6s 12ms/step - loss: 0.0176 - accuracy: 0.9942 - val_loss: 0.0317 - val_accuracy: 0.9921\n",
      "Epoch 16/30\n",
      "469/469 [==============================] - 14s 30ms/step - loss: 0.0157 - accuracy: 0.9947 - val_loss: 0.0340 - val_accuracy: 0.9909\n",
      "Epoch 17/30\n",
      "469/469 [==============================] - 18s 38ms/step - loss: 0.0162 - accuracy: 0.9947 - val_loss: 0.0318 - val_accuracy: 0.9919\n",
      "Epoch 18/30\n",
      "469/469 [==============================] - 17s 37ms/step - loss: 0.0147 - accuracy: 0.9948 - val_loss: 0.0289 - val_accuracy: 0.9928\n",
      "Epoch 19/30\n",
      "469/469 [==============================] - 17s 35ms/step - loss: 0.0135 - accuracy: 0.9955 - val_loss: 0.0308 - val_accuracy: 0.9926\n",
      "Epoch 20/30\n",
      "469/469 [==============================] - 17s 37ms/step - loss: 0.0130 - accuracy: 0.9956 - val_loss: 0.0334 - val_accuracy: 0.9924\n",
      "Epoch 21/30\n",
      "469/469 [==============================] - 17s 36ms/step - loss: 0.0124 - accuracy: 0.9956 - val_loss: 0.0295 - val_accuracy: 0.9927\n",
      "Epoch 22/30\n",
      "469/469 [==============================] - 12s 27ms/step - loss: 0.0117 - accuracy: 0.9959 - val_loss: 0.0326 - val_accuracy: 0.9928\n",
      "Epoch 23/30\n",
      "469/469 [==============================] - 17s 36ms/step - loss: 0.0133 - accuracy: 0.9955 - val_loss: 0.0350 - val_accuracy: 0.9916\n",
      "Epoch 24/30\n",
      "469/469 [==============================] - 17s 36ms/step - loss: 0.0120 - accuracy: 0.9961 - val_loss: 0.0323 - val_accuracy: 0.9929\n",
      "Epoch 25/30\n",
      "469/469 [==============================] - 17s 35ms/step - loss: 0.0100 - accuracy: 0.9965 - val_loss: 0.0342 - val_accuracy: 0.9932\n",
      "Epoch 26/30\n",
      "469/469 [==============================] - 16s 35ms/step - loss: 0.0102 - accuracy: 0.9966 - val_loss: 0.0290 - val_accuracy: 0.9931\n",
      "Epoch 27/30\n",
      "469/469 [==============================] - 17s 35ms/step - loss: 0.0109 - accuracy: 0.9963 - val_loss: 0.0363 - val_accuracy: 0.9929\n",
      "Epoch 28/30\n",
      "469/469 [==============================] - 17s 36ms/step - loss: 0.0097 - accuracy: 0.9965 - val_loss: 0.0357 - val_accuracy: 0.9936\n",
      "Epoch 29/30\n",
      "469/469 [==============================] - 17s 35ms/step - loss: 0.0097 - accuracy: 0.9968 - val_loss: 0.0379 - val_accuracy: 0.9924\n",
      "Epoch 30/30\n",
      "469/469 [==============================] - 17s 36ms/step - loss: 0.0090 - accuracy: 0.9969 - val_loss: 0.0372 - val_accuracy: 0.9926\n"
     ]
    }
   ],
   "source": [
    "hist = cnn.fit(x_train, y_train, batch_size=128, \n",
    "               epochs=30, validation_data=(x_test, y_test))"
   ]
  }
 ],
 "metadata": {
  "kernelspec": {
   "display_name": "Python 3.8.13 ('GLC')",
   "language": "python",
   "name": "python3"
  },
  "language_info": {
   "codemirror_mode": {
    "name": "ipython",
    "version": 3
   },
   "file_extension": ".py",
   "mimetype": "text/x-python",
   "name": "python",
   "nbconvert_exporter": "python",
   "pygments_lexer": "ipython3",
   "version": "3.8.13"
  },
  "orig_nbformat": 4,
  "vscode": {
   "interpreter": {
    "hash": "47a762b1c0c951a86b7914179f2f33181357605566a023ccb5ffc75de4ce7fdf"
   }
  }
 },
 "nbformat": 4,
 "nbformat_minor": 2
}
