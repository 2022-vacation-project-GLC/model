{
 "cells": [
  {
   "cell_type": "markdown",
   "metadata": {},
   "source": [
    "이번 장은 저번 장에서 배운 perceptron의 가중치이 어떠한 절차를 통하여 결정되는지에 대하여 공부할 것이다.\n",
    "\n",
    "각각의 입령층으로 부터 나온 값들은 활성화 함수를 거친다. 그래야 0 또는 1 로 출력되기 때문이다.\n",
    "이러한 활성화 함수는 여러가지가 있는데 하나하나 구현해 보면서 어떠한 특징이 있는지 알아보도록 하겠다."
   ]
  },
  {
   "cell_type": "markdown",
   "metadata": {},
   "source": [
    "1. 활성화 함수\n",
    "\n",
    "1-1. 계단 함수이다.\n",
    "    입력이 0을 넘으면 1을 출력하고\n",
    "    그 외에는 0을 출력하는 함수이다."
   ]
  },
  {
   "cell_type": "code",
   "execution_count": 178,
   "metadata": {},
   "outputs": [],
   "source": [
    "def step_function1(x):\n",
    "    if x>0:\n",
    "        return 1\n",
    "    else:\n",
    "        return 0"
   ]
  },
  {
   "cell_type": "markdown",
   "metadata": {},
   "source": [
    "하지만 이런식으로 구현하게 되면 넘파이 배열을 입력받지 못하게 된다.\n",
    "넘파이 배여을 입력받기 위하여 우리는 코드를 다음과 같이 수정할 수 있다.\n",
    "이때, x는 넘파이 배열이다."
   ]
  },
  {
   "cell_type": "code",
   "execution_count": 179,
   "metadata": {},
   "outputs": [
    {
     "name": "stdout",
     "output_type": "stream",
     "text": [
      "[0 1 1]\n"
     ]
    }
   ],
   "source": [
    "import numpy as np\n",
    "def step_function2(x):\n",
    "    y = x > 0\n",
    "    return y.astype(np.int0)\n",
    "\n",
    "x = np.array([-1.,1.,2.])\n",
    "print(step_function2(x))"
   ]
  },
  {
   "cell_type": "markdown",
   "metadata": {},
   "source": [
    "이제 앞에서 정의한 계단 함수를 그래프로 그려볼것이다.\n",
    "참고로 코드를 다음과 같이 더 줄일 수 도 있다."
   ]
  },
  {
   "cell_type": "code",
   "execution_count": 180,
   "metadata": {},
   "outputs": [
    {
     "data": {
      "image/png": "[encoded data removed]",
      "text/plain": [
       "<Figure size 432x288 with 1 Axes>"
      ]
     },
     "metadata": {
      "needs_background": "light"
     },
     "output_type": "display_data"
    }
   ],
   "source": [
    "import numpy as np\n",
    "import matplotlib.pylab as plt\n",
    "\n",
    "def step_function3(x):\n",
    "    return np.array(x>0,dtype =np.int0)\n",
    "\n",
    "x = np.arange(-5.0,5.0,0.1)\n",
    "y = step_function3(x)\n",
    "\n",
    "plt.plot(x,y)\n",
    "plt.ylim(-0.1,1.1)\n",
    "plt.show()\n",
    "    "
   ]
  },
  {
   "cell_type": "markdown",
   "metadata": {},
   "source": [
    "1-2. 그 다음으로는 시그모이드 함수를 구현해보고자 한다.\n",
    "    시그모이드는 수식을 통하여 쉽게 구현할 수 있다.\n",
    "    특이하게도 본 함수는 넘파이 배열을 입력받아 올바른 형태로 출력이 가능하다.\n",
    "    그 이유는 넘파이의 브로드 캐스트에 존재한다. \n",
    "    실재로 그런지 확인하면서 예제를 통해 복습 해보자."
   ]
  },
  {
   "cell_type": "code",
   "execution_count": 181,
   "metadata": {},
   "outputs": [
    {
     "name": "stdout",
     "output_type": "stream",
     "text": [
      "[0.26894142 0.73105858 0.88079708]\n"
     ]
    }
   ],
   "source": [
    "def sigmoid(x):\n",
    "    sig = np.where(x<0,np.exp(x)/(1+np.exp(x)) ,1/(1+np.exp(-x)))\n",
    "    return sig\n",
    "\n",
    "x = np.array([-1.0,1.0,2.0])\n",
    "print(sigmoid(x))"
   ]
  },
  {
   "cell_type": "code",
   "execution_count": 182,
   "metadata": {},
   "outputs": [
    {
     "name": "stdout",
     "output_type": "stream",
     "text": [
      "[2. 3. 4.]\n",
      "[1.         0.5        0.33333333]\n"
     ]
    }
   ],
   "source": [
    "t = np.array([1.0,2.0,3.0])\n",
    "print(1.0+t)\n",
    "print(1.0/t)"
   ]
  },
  {
   "cell_type": "markdown",
   "metadata": {},
   "source": [
    "다음과 같이 브로드캐스드가 잘 이루어지는 모습을 확인할 수 있다.\n",
    "이제는 시그모이드 함수를 시각화 해보자."
   ]
  },
  {
   "cell_type": "code",
   "execution_count": 183,
   "metadata": {},
   "outputs": [
    {
     "data": {
      "image/png": "[encoded data removed]",
      "text/plain": [
       "<Figure size 432x288 with 1 Axes>"
      ]
     },
     "metadata": {
      "needs_background": "light"
     },
     "output_type": "display_data"
    }
   ],
   "source": [
    "x = np.arange(-5.0,5.0,0.1)\n",
    "y = sigmoid(x)\n",
    "\n",
    "plt.plot(x,y)\n",
    "plt.ylim(-0.1,1.1)\n",
    "plt.show()"
   ]
  },
  {
   "cell_type": "markdown",
   "metadata": {},
   "source": [
    "1-3. 이제 계단 함수와 시그모이드 함수를 비교해보자.\n",
    "\n",
    "차이점)\n",
    "    가장 먼저 시각적으로 연속성의 차이가 보일 것이다.\n",
    "    이 연속성에 의하여 반환 값에도 차이가 존재한다.\n",
    "    시그모이드 함수는 실수를 반환하는 반면\n",
    "    계단 함수는 오직 0 또는 1만을 반환한다.\n",
    "\n",
    "공통점)\n",
    "    입력이 중요하면 큰 값을 출력 중요치 않으면 작은 값 출력\n",
    "    입력의 값이 아무리 크거나 작아도 0 에서 1사이의 값을 반환\n",
    "    비선형 함수이다."
   ]
  },
  {
   "cell_type": "markdown",
   "metadata": {},
   "source": [
    "1-4. 비선형 함수\n",
    "    비선형 함수란 선형이 아닌 함수이다.\n",
    "    선형 함수란\n",
    "    입력의 상수배만큼 변하는 함수를 선형 함수 라고 한다.\n",
    "\n",
    "신경망에서는 활성화 함수로 비선형 함수를 사용해야 한다.\n",
    "달리 말하면 선형 함수여서는 안된다는 것인데 왜 그런 것일까?\n",
    "왜냐하면 층을 깊게 하는 의미가 없어지기 때문이다.\n",
    "\n",
    "한층에서도 구현이 가능한 것을 굳이 여러 층을 나눠 구현할 이유가 없는 것이다."
   ]
  },
  {
   "cell_type": "markdown",
   "metadata": {},
   "source": [
    "1-5. ReLU 함수\n",
    "    본 함수는 입력이 0을 넘으면 그 입력을 그대로 출력하고,\n",
    "    0 이하면 0을 출력하는 함수이다.\n",
    "    본 함수는 다음과 같이 간단히 구현된다."
   ]
  },
  {
   "cell_type": "code",
   "execution_count": 184,
   "metadata": {},
   "outputs": [],
   "source": [
    "def ReLU(x):\n",
    "    return np.maximum(0,x) # 둘개의 입력 값 중 큰 값을 반환하는 함수"
   ]
  },
  {
   "cell_type": "markdown",
   "metadata": {},
   "source": [
    "2. 다차원 배열의 계산\n",
    "\n",
    "2-1. 다차원 배열\n",
    "    결국 숫자의 배열이다. 하지만 그 형태에 차이가 존재하는 것이다.\n",
    "    1열, 직사각형 배열, n차원 배열 등등.\n",
    "    이제 넘파이를 이용하여 다차원 배열을 작성해볼 것 이다."
   ]
  },
  {
   "cell_type": "code",
   "execution_count": 185,
   "metadata": {},
   "outputs": [
    {
     "name": "stdout",
     "output_type": "stream",
     "text": [
      "[1 2 3 4]\n",
      "1\n",
      "(4,)\n",
      "4\n"
     ]
    }
   ],
   "source": [
    "A = np.array([1,2,3,4]) # 1차원 배열\n",
    "\n",
    "print(A)\n",
    "print(np.ndim(A))       # 차원 수 확인\n",
    "print(A.shape)          # 형태 확인, 튜플로 반환\n",
    "print(A.shape[0])   "
   ]
  },
  {
   "cell_type": "code",
   "execution_count": 186,
   "metadata": {},
   "outputs": [
    {
     "name": "stdout",
     "output_type": "stream",
     "text": [
      "[[1 2]\n",
      " [3 4]\n",
      " [5 6]]\n",
      "2\n",
      "(3, 2)\n"
     ]
    }
   ],
   "source": [
    "B = np.array([[1,2],[3,4],[5,6]])\n",
    "\n",
    "print(B)\n",
    "print(np.ndim(B))\n",
    "print(B.shape)"
   ]
  },
  {
   "cell_type": "markdown",
   "metadata": {},
   "source": [
    "B의 shape을 보면 3,2이라고 되어있다.\n",
    "첫 차원의 원소가 3개 \n",
    "두번째 차원의 원소가 2개 라는 뜻이다.\n",
    "\n",
    "참고로 2차원 배열은 특히 행렬이라고 부르며\n",
    "가로 방향을 행\n",
    "세로 방향을 열이라고 한다."
   ]
  },
  {
   "cell_type": "markdown",
   "metadata": {},
   "source": [
    "2-2. 행렬 곱\n",
    "    여기서 말하는 곱은 dot이다.\n",
    "    따라서 (a,b)의 행렬과 (b,d)와 같이\n",
    "    앞의 열의 개수와 뒤의 행의 개수가 동일하여야 계산이 가능하다.\n",
    "    그리고 계산 결과의 형태는 (a,d)로 결정 되게 된다.\n",
    "    코드를 통해 확인 해보자"
   ]
  },
  {
   "cell_type": "code",
   "execution_count": 187,
   "metadata": {},
   "outputs": [
    {
     "name": "stdout",
     "output_type": "stream",
     "text": [
      "(2, 2)\n",
      "(2, 2)\n",
      "[[19 22]\n",
      " [43 50]]\n"
     ]
    }
   ],
   "source": [
    "A = np.array([[1,2],[3,4]])\n",
    "B = np.array([[5,6],[7,8]])\n",
    "\n",
    "print(A.shape)\n",
    "print(B.shape)\n",
    "\n",
    "print(np.dot(A,B))"
   ]
  },
  {
   "cell_type": "markdown",
   "metadata": {},
   "source": [
    "과연 내적은 교환법칙이 성립할까?\n",
    "다음 코드를 보며 확인해보자."
   ]
  },
  {
   "cell_type": "code",
   "execution_count": 188,
   "metadata": {},
   "outputs": [
    {
     "name": "stdout",
     "output_type": "stream",
     "text": [
      "[[19 22]\n",
      " [43 50]]\n",
      "[[23 34]\n",
      " [31 46]]\n"
     ]
    }
   ],
   "source": [
    "print(np.dot(A,B))\n",
    "print(np.dot(B,A))"
   ]
  },
  {
   "cell_type": "markdown",
   "metadata": {},
   "source": [
    "당연히 곱해지는 상대가 달라지니 성립하지 않는 것을 확인할 수 있다."
   ]
  },
  {
   "cell_type": "markdown",
   "metadata": {},
   "source": [
    "2-3. 신경망에서의 행렬 곱\n",
    "    넘파이 행렬을 사용하여 그림 3-14의 신경망을 구현해보자\n",
    "    (1,2) dot (2,3) = (1,3) 의 형태로 출력될 것 이다.\n",
    "    이제 구현 해보자."
   ]
  },
  {
   "cell_type": "code",
   "execution_count": 189,
   "metadata": {},
   "outputs": [
    {
     "name": "stdout",
     "output_type": "stream",
     "text": [
      "[ 5 11 17]\n"
     ]
    }
   ],
   "source": [
    "X = np.array([1,2])\n",
    "W = np.array([[1,3,5],[2,4,6]])\n",
    "Y = np.dot(X,W)\n",
    "\n",
    "print(Y)"
   ]
  },
  {
   "cell_type": "markdown",
   "metadata": {},
   "source": [
    "3. 3층 신경망 구현하기\n",
    "    입력부터 출력까지의 처리를 구현해보자.(순방향 처리)\n",
    "    입력층 : 2개\n",
    "    1번째 은닉층 : 3개\n",
    "    2번째 은닉층 : 2개\n",
    "    출력층 : 2개\n",
    "\n",
    "    만약 w(1),1,2 라고 작성이 되었다면\n",
    "    1번째 은닉층의 가중치 인데 \n",
    "    그 중에서 앞층의 2번 뉴런으로부터 다음층 1번 뉴런으로 향할 때 \n",
    "    사용된 가중치 라고 이해하면 된다.\n",
    "\n",
    "    1번째 은닉층의 1번째 뉴런을 수식으로 나타내면 다음과 같다.\n",
    "    a(1),1 = w(1)1,1 * x1 + w(1)1,2 * x2 + b(1),1\n",
    "    \n",
    "    한층을 간소화 하면 다음과 같이 표현한다.\n",
    "    A(1) = XW(1) + B(1)\n",
    "\n",
    "    여기서 각각은 다음과 같이 표현된다.\n",
    "    A(1) = (a(1),1 ,a(1),2 ,a(1),3 )\n",
    "    X = (x1, x2)\n",
    "    W(1) = ((w(1),1,1, w(1),2,1, w(1),3,1),(w(1),1,2, w(1),2,2, w(1),3,2))\n",
    "    B(1) = (b(1),1,b(1),2, b(1),3 )\n",
    "\n",
    "    이제 구현해보자.\n",
    "\n",
    "    참고로 Z1은 나온 결과 값에 대하여 활성화 함수를 거쳐서 나온 넘파이 배열이다.\n",
    "    여기서 사용할 활성화 함수는 시그모이드 함수이다."
   ]
  },
  {
   "cell_type": "code",
   "execution_count": 190,
   "metadata": {},
   "outputs": [
    {
     "name": "stdout",
     "output_type": "stream",
     "text": [
      "[0.3 0.7 1.1]\n",
      "[0.57444252 0.66818777 0.75026011]\n"
     ]
    }
   ],
   "source": [
    "X = np.array([1.0,0.5])\n",
    "W1 = np.array([[0.1,0.3,0.5],[0.2,0.4,0.6]])\n",
    "B1 = np.array([0.1,0.2,0.3])\n",
    "\n",
    "A1 = np.dot(X,W1)+B1\n",
    "Z1 = sigmoid(A1)\n",
    "\n",
    "print(A1)\n",
    "print(Z1)"
   ]
  },
  {
   "cell_type": "markdown",
   "metadata": {},
   "source": [
    "나머지 층들도 구성해보자."
   ]
  },
  {
   "cell_type": "code",
   "execution_count": 191,
   "metadata": {},
   "outputs": [
    {
     "name": "stdout",
     "output_type": "stream",
     "text": [
      "[0.51615984 1.21402696]\n",
      "[0.62624937 0.7710107 ]\n"
     ]
    }
   ],
   "source": [
    "W2 = np.array([[0.1,0.4],[0.2,0.5],[0.3,0.6]])\n",
    "B2 = np.array([0.1,0.2])\n",
    "\n",
    "A2 = np.dot(Z1,W2)+B2\n",
    "Z2 = sigmoid(A2)\n",
    "\n",
    "print(A2)\n",
    "print(Z2)"
   ]
  },
  {
   "cell_type": "markdown",
   "metadata": {},
   "source": [
    "마지막으로 출력층을 구성해보자.\n",
    "출력층에서 달라지는 점이 한가지가 있다.\n",
    "바로 활성화 함수이다.\n",
    "여기서는 항등 함수를 정의하고 사용하였다."
   ]
  },
  {
   "cell_type": "code",
   "execution_count": 192,
   "metadata": {},
   "outputs": [
    {
     "name": "stdout",
     "output_type": "stream",
     "text": [
      "[0.31682708 0.69627909]\n",
      "[0.31682708 0.69627909]\n"
     ]
    }
   ],
   "source": [
    "def identity_function(x):\n",
    "    return x\n",
    "\n",
    "W3 = np.array([[0.1,0.3],[0.2,0.4]])\n",
    "B3 = np.array([0.1,0.2])\n",
    "\n",
    "A3 = np.dot(Z2,W3) + B3\n",
    "Y = identity_function(A3)\n",
    "\n",
    "print(A3)\n",
    "print(Y)"
   ]
  },
  {
   "cell_type": "markdown",
   "metadata": {},
   "source": [
    "3-2.구현 정리"
   ]
  },
  {
   "cell_type": "code",
   "execution_count": 193,
   "metadata": {},
   "outputs": [
    {
     "name": "stdout",
     "output_type": "stream",
     "text": [
      "[0.31682708 0.69627909]\n"
     ]
    }
   ],
   "source": [
    "def init_network():\n",
    "    network = {}\n",
    "    network['W1'] = np.array([[0.1,0.3,0.5],[0.2,0.4,0.6]])\n",
    "    network['b1'] = np.array([0.1,0.2,0.3])\n",
    "    network['W2'] = np.array([[0.1,0.4],[0.2,0.5],[0.3,0.6]])\n",
    "    network['b2'] = np.array([0.1,0.2])\n",
    "    network['W3'] = np.array([[0.1,0.3],[0.2,0.4]])\n",
    "    network['b3'] = np.array([0.1,0.2])\n",
    "    return network\n",
    "\n",
    "def forward(network,x):\n",
    "    W1,W2,W3 = network['W1'],network['W2'],network['W3']\n",
    "    b1,b2,b3 = network['b1'],network['b2'],network['b3']\n",
    "    a1 = np.dot(x,W1)+b1\n",
    "    z1 = sigmoid(a1)\n",
    "    a2 = np.dot(z1,W2)+b2\n",
    "    z2 = sigmoid(a2)\n",
    "    a3 = np.dot(z2,W3)+b3\n",
    "    y = identity_function(a3)\n",
    "    \n",
    "    return y\n",
    "\n",
    "network = init_network()\n",
    "x = np.array([1.0,0.5])\n",
    "y = forward(network,x)\n",
    "print(y)"
   ]
  },
  {
   "cell_type": "markdown",
   "metadata": {},
   "source": [
    "3-3. 출력층 설계\n",
    "    신경망은 분류 혹은 회귀에 모두 사용할 수 있다.\n",
    "    하지만 그 용도에 따라 활성화 함수가 달라진다.\n",
    "    회귀에는 항등함수를 \n",
    "    분류에는 소프트맥스 함수를 사용한다.\n",
    "    \n",
    "\n",
    "3-4. 항등함수와 소프트맥스 함수\n",
    "    항등함수는 입력을 그대로 출력하는 함수이다.\n",
    "    소프트맥스 함수는 식 3.10을 참고하자.\n",
    "    간단히 설명하여 exp(입력값)을 exp(입력값)의 전체합으로 나누는 것이다.\n",
    "    n은 출력층의 뉴런개수이다.\n",
    "    k는 그중 몇번째 출력인지를 의미한다.\n",
    "    ak는 입력신호이다.\n",
    "\n",
    "    구현해보도록 하자."
   ]
  },
  {
   "cell_type": "code",
   "execution_count": 194,
   "metadata": {},
   "outputs": [
    {
     "name": "stdout",
     "output_type": "stream",
     "text": [
      "[ 1.34985881 18.17414537 54.59815003]\n",
      "74.1221542101633\n",
      "[0.01821127 0.24519181 0.73659691]\n"
     ]
    }
   ],
   "source": [
    "import numpy as np\n",
    "\n",
    "a = np.array([0.3,2.9,4.0])\n",
    "\n",
    "exp_a = np.exp(a)\n",
    "print(exp_a)\n",
    "\n",
    "sum_exp_a = np.sum(exp_a)\n",
    "print(sum_exp_a)\n",
    "\n",
    "y = exp_a/sum_exp_a\n",
    "print(y)"
   ]
  },
  {
   "cell_type": "code",
   "execution_count": 195,
   "metadata": {},
   "outputs": [],
   "source": [
    "def softmax_pre(a):\n",
    "    exp_a = np.exp(a)\n",
    "    sum_exp_a = np.sum(exp_a)\n",
    "    y = exp_a/sum_exp_a\n",
    "    \n",
    "    return y"
   ]
  },
  {
   "cell_type": "markdown",
   "metadata": {},
   "source": [
    "소프트맥스 함수 구현시 주의점\n",
    "    오버플로가 발생할 수 있다.\n",
    "    왜냐하면 값이 너무나 쉽게 커질 수 있기 때문이다.\n",
    "    그리고 이러한 값을 나누면 결과 수치가 불안정해지게 된다.\n",
    "\n",
    "    이를 해결하기 위하여 소프트맥스 함수식을 식 3.11과 같이 변경할 수 있다.\n",
    "    이 식은 소프트맥스의 지수 함수를 계산할 때 어떤 정수를 더해도 결과는 바뀌지 않는다는 것이다.\n",
    "    오버플로를 막은 목적으로 이때 더하는 값을 입ㄹ력 신호 중 최대값을 이용하는 것이다.\n",
    "    예를 통해 이해해보자."
   ]
  },
  {
   "cell_type": "code",
   "execution_count": 196,
   "metadata": {},
   "outputs": [
    {
     "name": "stdout",
     "output_type": "stream",
     "text": [
      "[nan nan nan]\n",
      "[9.99954600e-01 4.53978686e-05 2.06106005e-09]\n"
     ]
    },
    {
     "name": "stderr",
     "output_type": "stream",
     "text": [
      "/var/folders/zm/91nct82j02j0xmt1jpbd7xrc0000gn/T/ipykernel_79524/3911326800.py:3: RuntimeWarning: overflow encountered in exp\n",
      "  print(np.exp(a) / np.sum(np.exp(a))) #softmax 함수 계산\n",
      "/var/folders/zm/91nct82j02j0xmt1jpbd7xrc0000gn/T/ipykernel_79524/3911326800.py:3: RuntimeWarning: invalid value encountered in true_divide\n",
      "  print(np.exp(a) / np.sum(np.exp(a))) #softmax 함수 계산\n"
     ]
    }
   ],
   "source": [
    "\n",
    "import numpy as np\n",
    "a = np.array([1010,1000,990])\n",
    "print(np.exp(a) / np.sum(np.exp(a))) #softmax 함수 계산\n",
    "# 오버플로우 오류가 발생하게 된다.\n",
    "\n",
    "c = np.max(a) # c = 1010 (maximum)\n",
    "a = a-c\n",
    "print(np.exp(a) / np.sum(np.exp(a)))\n",
    "\n"
   ]
  },
  {
   "cell_type": "markdown",
   "metadata": {},
   "source": [
    "오버플로우를 방지하는 법은 위에서와 같이 입력 신호 중 최대 값을 빼는 것이 가장 일반적이다.\n",
    "위의 것을 참고하여 softmax함수를 수정해보자"
   ]
  },
  {
   "cell_type": "code",
   "execution_count": 197,
   "metadata": {},
   "outputs": [],
   "source": [
    "def softmax(a):\n",
    "    c = np.max(a)\n",
    "    exp_a = np.exp(a-c)\n",
    "    sum_exp_a = np.sum(exp_a)\n",
    "    y = exp_a/sum_exp_a\n",
    "    \n",
    "    return y"
   ]
  },
  {
   "cell_type": "markdown",
   "metadata": {},
   "source": [
    "소프트 맥스 함수를 사용하면 신경망의 출력을 다음과 같이 계산할 수 있다."
   ]
  },
  {
   "cell_type": "code",
   "execution_count": 198,
   "metadata": {},
   "outputs": [
    {
     "name": "stdout",
     "output_type": "stream",
     "text": [
      "[0.01821127 0.24519181 0.73659691]\n",
      "1.0\n"
     ]
    }
   ],
   "source": [
    "a = np.array([0.3,2.9,4.0])\n",
    "y = softmax(a)\n",
    "print(y)\n",
    "print(np.sum(y))"
   ]
  },
  {
   "cell_type": "markdown",
   "metadata": {},
   "source": [
    "일단 함수의 출력은 항상 0 에서 1.0 사이의 실수이다.\n",
    "또한 항상 함수 출려의 총합은 1 이다.\n",
    "이 성질 덕분에 소프트맥스 함수의 출력을 확률로 해석할 수 있다.\n",
    "앞의 예에서 y[0]는 1.8% y[1]는 24.5% y[2]는 73.7%로 해석할 수 있다.\n",
    "\n",
    "그리고 이 결과들로부터 '2번째 원소의 확률이 가장 높으니 답은 2번 클래스 이다.'라고 할 수 있다.\n",
    "\n",
    "여기서 주의점은 softmax함수를 거친다 하여도 원래 원소의 대소관계는 변하지 못한다. \n",
    "왜냐하면 exp함수는 단조증가 함수 이기 때문이다.\n",
    "\n",
    "--> 즉 추론단계에서의 출력층에서 굳이 softmax함수 계산 과정을 거치지 않아도 된다.\n",
    "    학습시킬 때는 출력층에서 softmax함수를 사용"
   ]
  },
  {
   "cell_type": "markdown",
   "metadata": {},
   "source": [
    "3-5. 손글씨 숫자 인식\n",
    "    손글씨 숫자 분류를 진행할 것이다.\n",
    "    이미 학습된 매개변수를 사용하여\n",
    "    학습은 생략하고 추론 과정만 구현 할 것이다.\n",
    "    이 추론 과정을 신경망의 순전파라고도 한다.\n",
    "\n",
    "    사용할 데이터 셋은 유명한 MNIST dataset이다.\n",
    "    학습 6만장 테스트 1만장으로 구성되어있다.\n",
    "    데이터는 다운로드하는 것보다 pandas에서 import하여 오는 것이 빠르기에 다음과 같이 진행 하도록 하겠다."
   ]
  },
  {
   "cell_type": "code",
   "execution_count": 199,
   "metadata": {},
   "outputs": [
    {
     "name": "stdout",
     "output_type": "stream",
     "text": [
      "(60000, 28, 28)\n",
      "(60000,)\n",
      "(10000, 28, 28)\n",
      "(10000,)\n"
     ]
    }
   ],
   "source": [
    "from keras.datasets import mnist\n",
    "(x_train, t_train),(x_test,t_test) = mnist.load_data()\n",
    "\n",
    "print(x_train.shape)\n",
    "print(t_train.shape)\n",
    "print(x_test.shape)\n",
    "print(t_test.shape)\n"
   ]
  },
  {
   "cell_type": "markdown",
   "metadata": {},
   "source": [
    "잘 불러와졌다. 이것을 한번 시각화 해보도록 하자"
   ]
  },
  {
   "cell_type": "code",
   "execution_count": 200,
   "metadata": {},
   "outputs": [
    {
     "name": "stdout",
     "output_type": "stream",
     "text": [
      "5\n"
     ]
    },
    {
     "data": {
      "image/png": "[encoded data removed]",
      "text/plain": [
       "<Figure size 432x288 with 1 Axes>"
      ]
     },
     "metadata": {
      "needs_background": "light"
     },
     "output_type": "display_data"
    }
   ],
   "source": [
    "from PIL import Image\n",
    "import matplotlib.pyplot as plt\n",
    "\n",
    "def img_show(img):\n",
    "    pil_img = Image.fromarray(np.uint8(img))\n",
    "    pil_img.show()\n",
    "\n",
    "def img_show1(img):\n",
    "    plt.imshow(img, cmap=plt.cm.binary)\n",
    "    plt.show()\n",
    "    \n",
    "img = x_train[0]\n",
    "label = t_train[0]\n",
    "print(label)\n",
    "\n",
    "#img_show(img)\n",
    "img_show1(img)"
   ]
  },
  {
   "cell_type": "markdown",
   "metadata": {},
   "source": [
    "본 신경망은 입력층 뉴런을 784개, 출력층 뉴런을 10개로 구성한다.\n",
    "한편 은닉층은 총 두개로\n",
    "첫번째 은닉층에서는 50개의 뉴런을 \n",
    "두번째 은닉층에서는 100개의 뉴런을 배치 할 것이다.\n",
    "50과 100은 임의로 정한 값이다.\n",
    "\n",
    "이제 순서대로 작업을 처리해줄 get_data, init_network,predict를 정의 할것이다."
   ]
  },
  {
   "cell_type": "code",
   "execution_count": 201,
   "metadata": {},
   "outputs": [
    {
     "name": "stderr",
     "output_type": "stream",
     "text": [
      "/var/folders/zm/91nct82j02j0xmt1jpbd7xrc0000gn/T/ipykernel_79524/1954472426.py:2: RuntimeWarning: overflow encountered in exp\n",
      "  sig = np.where(x<0,np.exp(x)/(1+np.exp(x)) ,1/(1+np.exp(-x)))\n",
      "/var/folders/zm/91nct82j02j0xmt1jpbd7xrc0000gn/T/ipykernel_79524/1954472426.py:2: RuntimeWarning: invalid value encountered in true_divide\n",
      "  sig = np.where(x<0,np.exp(x)/(1+np.exp(x)) ,1/(1+np.exp(-x)))\n"
     ]
    },
    {
     "name": "stdout",
     "output_type": "stream",
     "text": [
      "Accuracy : 0.9207\n"
     ]
    }
   ],
   "source": [
    "from keras.datasets import mnist\n",
    "import pickle\n",
    "\n",
    "def get_data():\n",
    "    (x_train, t_train),(x_test,t_test) = mnist.load_data()\n",
    "    return x_test, t_test\n",
    "\n",
    "def init_network():\n",
    "    with open(\"/Users/bandaejun/Desktop/GLC/study/sample_weight.pkl\",'rb') as f:\n",
    "        network = pickle.load(f)\n",
    "    return network\n",
    "\n",
    "def predict(network,x):\n",
    "    W1,W2,W3 = network['W1'],network['W2'],network['W3']\n",
    "    b1,b2,b3 = network['b1'],network['b2'],network['b3']\n",
    "\n",
    "    a1 = np.dot(x,W1) + b1\n",
    "    z1 = sigmoid(a1)\n",
    "    a2 = np.dot(z1,W2) + b2\n",
    "    z2 = sigmoid(a2)\n",
    "    a3 = np.dot(z2,W3) + b3\n",
    "    y = softmax(a3)\n",
    "    \n",
    "    return y\n",
    "\n",
    "x,t = get_data()\n",
    "network = init_network()\n",
    "\n",
    "accuracy_cnt = 0\n",
    "for i in range(len(x)):\n",
    "    y = predict(network,x[i].reshape(784,))\n",
    "    p = np.argmax(y)\n",
    "    if p == t[i]:\n",
    "        accuracy_cnt+=1\n",
    "print(f'Accuracy : {float(accuracy_cnt) / len(x)}')    \n",
    "\n",
    "#sigmoid에서 발생하는 overflow를 해결할 수 가 없음 흠"
   ]
  },
  {
   "cell_type": "markdown",
   "metadata": {},
   "source": [
    "현재는 다음과 같이 흐름이 진행되고 있다.\n",
    "x  : 001 784\n",
    "w1 : 784 050\n",
    "w2 : 050 100\n",
    "w3 : 100 010\n",
    "y  : 10\n",
    "\n",
    "그럼 이제 여러장을 한꺼번에 입력하는 경우를 생각해보자.\n",
    "이미지 100개를 묶어 predict함수에 한번에 넘기는 것이다.\n",
    "x의 형상을 100 784로 바꿔 넣는것이다.\n",
    "이처럼 하나로 묶은 입력 데이터를 배치라고 한다.\n",
    "\n",
    "이제 구현해보자"
   ]
  },
  {
   "cell_type": "code",
   "execution_count": 202,
   "metadata": {},
   "outputs": [
    {
     "name": "stdout",
     "output_type": "stream",
     "text": [
      "Accuracy : 0.9207\n"
     ]
    },
    {
     "name": "stderr",
     "output_type": "stream",
     "text": [
      "/var/folders/zm/91nct82j02j0xmt1jpbd7xrc0000gn/T/ipykernel_79524/1954472426.py:2: RuntimeWarning: overflow encountered in exp\n",
      "  sig = np.where(x<0,np.exp(x)/(1+np.exp(x)) ,1/(1+np.exp(-x)))\n",
      "/var/folders/zm/91nct82j02j0xmt1jpbd7xrc0000gn/T/ipykernel_79524/1954472426.py:2: RuntimeWarning: invalid value encountered in true_divide\n",
      "  sig = np.where(x<0,np.exp(x)/(1+np.exp(x)) ,1/(1+np.exp(-x)))\n"
     ]
    }
   ],
   "source": [
    "x,t = get_data()\n",
    "network = init_network()\n",
    "\n",
    "batch_size = 100\n",
    "accuracy_cnt = 0\n",
    "\n",
    "for i in range(0,len(x),batch_size):\n",
    "    x_batch = x[i:i+batch_size]\n",
    "    y_batch = predict(network,x_batch.reshape(batch_size,784))\n",
    "    p = np.argmax(y_batch,axis = 1)\n",
    "    accuracy_cnt+=np.sum(p == t[i:i+batch_size])\n",
    "\n",
    "print(f'Accuracy : {float(accuracy_cnt) / len(x)}')  "
   ]
  },
  {
   "cell_type": "markdown",
   "metadata": {},
   "source": [
    "여기나오는 argmax의 axis = 1에 대하여 이해해보자.\n",
    "argmax는 최댓값의 인덱스를 가져온다. 다만 여기에서 axis = 1은 배열중 1번째 차원을 구성하는 각원소에서 최댓값 인덱스를 찾도록 한것이다.\n",
    "예시를 보며 이해해보도록 하자"
   ]
  },
  {
   "cell_type": "code",
   "execution_count": 203,
   "metadata": {},
   "outputs": [
    {
     "name": "stdout",
     "output_type": "stream",
     "text": [
      "[1 2 1 0]\n"
     ]
    }
   ],
   "source": [
    "x = np.array([[0.1,0.8,0.1],[0.3,0.1,0.6],[0.2,0.5,0.3],[0.8,0.1,0.1]])\n",
    "y = np.argmax(x,axis = 1)\n",
    "print(y)"
   ]
  }
 ],
 "metadata": {
  "kernelspec": {
   "display_name": "Python 3.8.13 ('tensorflow-dev')",
   "language": "python",
   "name": "python3"
  },
  "language_info": {
   "codemirror_mode": {
    "name": "ipython",
    "version": 3
   },
   "file_extension": ".py",
   "mimetype": "text/x-python",
   "name": "python",
   "nbconvert_exporter": "python",
   "pygments_lexer": "ipython3",
   "version": "3.8.13"
  },
  "orig_nbformat": 4,
  "vscode": {
   "interpreter": {
    "hash": "e7eeedbc38737b45b3f3d9c30fb6c381a1d5f1910f05692e0cad4cfbf19e6b99"
   }
  }
 },
 "nbformat": 4,
 "nbformat_minor": 2
}
