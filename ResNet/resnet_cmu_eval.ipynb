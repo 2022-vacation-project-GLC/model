{
  "nbformat": 4,
  "nbformat_minor": 0,
  "metadata": {
    "colab": {
      "name": "resnet_cmu_eval.ipynb",
      "provenance": [],
      "collapsed_sections": [],
      "include_colab_link": true
    },
    "kernelspec": {
      "name": "python3",
      "display_name": "Python 3"
    },
    "language_info": {
      "name": "python"
    },
    "accelerator": "GPU",
    "gpuClass": "standard"
  },
  "cells": [
    {
      "cell_type": "markdown",
      "metadata": {
        "id": "view-in-github",
        "colab_type": "text"
      },
      "source": [
        "<a href=\"https://colab.research.google.com/github/2022-vacation-project-GLC/model/blob/main/resnet_cmu_eval.ipynb\" target=\"_parent\"><img src=\"https://colab.research.google.com/assets/colab-badge.svg\" alt=\"Open In Colab\"/></a>"
      ]
    },
    {
      "cell_type": "code",
      "source": [
        "from google.colab import drive\n",
        "drive.mount('/content/drive')"
      ],
      "metadata": {
        "colab": {
          "base_uri": "https://localhost:8080/"
        },
        "id": "HOUQwzjWboc3",
        "outputId": "94d5d58e-8242-4c23-d487-fd775f420431"
      },
      "execution_count": null,
      "outputs": [
        {
          "output_type": "stream",
          "name": "stdout",
          "text": [
            "Mounted at /content/drive\n"
          ]
        }
      ]
    },
    {
      "cell_type": "code",
      "execution_count": null,
      "metadata": {
        "id": "-jZuDDrQbTCw"
      },
      "outputs": [],
      "source": [
        "from astropy.table import Table\n",
        "\n",
        "d = Table.read('/content/drive/MyDrive/catalogs.hdf5')"
      ]
    },
    {
      "cell_type": "code",
      "source": [
        "import numpy as np\n",
        "\n",
        "x = np.array(d['image'][:16000]).reshape((-1, 101, 101, 1))\n",
        "y = np.array(d['is_lens'][:16000]).reshape((-1, 1))\n",
        "\n",
        "x_test = np.array(d['image'][16000:]).reshape((-1, 101, 101, 1))\n",
        "y_test = np.array(d['is_lens'][16000:]).reshape((-1, 1))"
      ],
      "metadata": {
        "id": "xj6f-XS_cB1m"
      },
      "execution_count": null,
      "outputs": []
    },
    {
      "cell_type": "code",
      "source": [
        "import os\n",
        "from glob import glob\n",
        "import tensorflow as tf\n",
        "import numpy as np\n",
        "import matplotlib.pyplot as plt\n",
        "from tensorflow.keras.preprocessing.image import ImageDataGenerator\n",
        "import random\n",
        "\n",
        "#datagenerator 생성\n",
        "datagenerator_1 = ImageDataGenerator(\n",
        "                                    rotation_range = 120,\n",
        "                                    vertical_flip = True,\n",
        "                                    horizontal_flip = True)\n",
        "\n",
        "datagenerator_2 = ImageDataGenerator(\n",
        "                                    rotation_range = 90,\n",
        "                                    vertical_flip = False,\n",
        "                                    horizontal_flip = True)\n",
        "\n",
        "def generating1(x,y):\n",
        "  x0 = np.array(x)\n",
        "  y0 = np.array(y)\n",
        "  p = datagenerator_1.flow(x0,y0,batch_size=len(x)-800)\n",
        "  # print(len(x))\n",
        "\n",
        "  return p\n",
        "\n",
        "def generating2(x,y):\n",
        "  x0 = np.array(x)\n",
        "  y0 = np.array(y)\n",
        "  p = datagenerator_2.flow(x0,y0,batch_size=len(x)-3000)\n",
        "  # print(len(x))\n",
        "\n",
        "  return p\n",
        "\n",
        "def data_shuffle(x,y):\n",
        "  xt = []\n",
        "  yt = []\n",
        "  entire = list(zip(x,y))\n",
        "  random.shuffle(entire)\n",
        "\n",
        "  for i in range(len(x)):\n",
        "    xt.append(entire[i][0])\n",
        "    yt.append(entire[i][1])\n",
        "\n",
        "  x = np.asarray(xt).astype(np.float32)\n",
        "  y = np.asarray(yt).astype(np.float32)\n",
        "\n",
        "  return x, y\n",
        "\n",
        "def data_rate(x,y):\n",
        "  xt = []\n",
        "  yt = []\n",
        "  xf = []\n",
        "  yf = []\n",
        "\n",
        "  for i in range(len(y)):\n",
        "    if y[i] ==1:\n",
        "      xt.append(x[i])\n",
        "      yt.append(y[i])\n",
        "    else:\n",
        "      xf.append(x[i])\n",
        "      yf.append(y[i])\n",
        "\n",
        "  xt = xt[:len(xf)]\n",
        "  yt = yt[:len(yf)]\n",
        "  x = xt+xf\n",
        "  y = yt+yf\n",
        "  x = np.asarray(x).astype(np.float32)\n",
        "  y = np.asarray(y).astype(np.float32)\n",
        "\n",
        "\n",
        "  return x,y\n",
        "\n",
        "x0 = []\n",
        "x1 = []\n",
        "\n",
        "for i in range(len(x)):\n",
        "  if y[i]==0:\n",
        "    x0.append(x[i])\n",
        "  elif y[i]==1:\n",
        "    x1.append(x[i])\n",
        "\n",
        "y0 = [0]*len(x0)\n",
        "y1 = [1]*len(x1)\n",
        "\n",
        "x = list(x)\n",
        "y = list(y)\n",
        "\n",
        "im,lb = generating1(x0,y0).next()\n",
        "im1,lb1 = generating2(x1,y1).next()\n",
        "\n",
        "for i in range(len(im)):\n",
        "  x0.append(im[i])\n",
        "  y0.append(lb[i])\n",
        "for i in range(len(im1)):\n",
        "  x1.append(im1[i])\n",
        "  y1.append(lb1[i])\n",
        "\n",
        "\n",
        "\n",
        "x1 = x1[:len(x0)]\n",
        "y1 = y1[:len(y0)]\n",
        "\n",
        "print(len(x1))\n",
        "print(len(x0))\n",
        "\n",
        "x = x0+x1\n",
        "y = y0+y1\n",
        "\n",
        "x_test,y_test = data_rate(x_test,y_test)\n",
        "\n",
        "rate =0\n",
        "rate1=0\n",
        "\n",
        "for data in y:\n",
        "  if data ==1:\n",
        "    rate+=1\n",
        "\n",
        "for data in y_test:\n",
        "  if data ==1:\n",
        "    rate1+=1\n",
        "\n",
        "print(rate/len(y))\n",
        "\n",
        "print(len(x))\n",
        "x,y = data_shuffle(x,y)\n",
        "\n",
        "\n",
        "\n",
        "\n",
        "\n",
        "'''\n",
        "im, lb = generating(x0,y)\n",
        "\n",
        "p1 = datagenerator_1.flow(x,y,batch_size=16000)\n",
        "p2 = datagenerator_2.flow(x,y,batch_size=6000)\n",
        "x = list(x)\n",
        "y = list(y)\n",
        "\n",
        "xa,ya = p1.next()\n",
        "xaa,yaa = p2.next()\n",
        "xa = np.array(xa)\n",
        "ya = np.array(ya)\n",
        "xaa = np.array(xaa)\n",
        "yaa = np.array(yaa)\n",
        "\n",
        "for i in range(len(xa)):\n",
        "  x.append(xa[i])\n",
        "  y.append(ya[i])\n",
        "\n",
        "for i in range(len(xaa)):\n",
        "  x.append(xaa[i])\n",
        "  y.append(yaa[i])\n",
        "\n",
        "x = np.array(x)\n",
        "y = np.array(y)\n",
        "\n",
        "print(x.shape)\n",
        "print(y.shape)\n",
        "'''"
      ],
      "metadata": {
        "colab": {
          "base_uri": "https://localhost:8080/",
          "height": 161
        },
        "id": "RrDLQfZoGhBw",
        "outputId": "24346d78-a15e-4dd4-e2ab-d24891846762"
      },
      "execution_count": null,
      "outputs": [
        {
          "output_type": "stream",
          "name": "stdout",
          "text": [
            "8868\n",
            "8868\n",
            "0.5\n",
            "17736\n"
          ]
        },
        {
          "output_type": "execute_result",
          "data": {
            "text/plain": [
              "'\\nim, lb = generating(x0,y)\\n\\np1 = datagenerator_1.flow(x,y,batch_size=16000)\\np2 = datagenerator_2.flow(x,y,batch_size=6000)\\nx = list(x)\\ny = list(y)\\n\\nxa,ya = p1.next()\\nxaa,yaa = p2.next()\\nxa = np.array(xa)\\nya = np.array(ya)\\nxaa = np.array(xaa)\\nyaa = np.array(yaa)\\n\\nfor i in range(len(xa)):\\n  x.append(xa[i])\\n  y.append(ya[i])\\n\\nfor i in range(len(xaa)):\\n  x.append(xaa[i])\\n  y.append(yaa[i])\\n\\nx = np.array(x)\\ny = np.array(y)\\n\\nprint(x.shape)\\nprint(y.shape)\\n'"
            ],
            "application/vnd.google.colaboratory.intrinsic+json": {
              "type": "string"
            }
          },
          "metadata": {},
          "execution_count": 3
        }
      ]
    },
    {
      "cell_type": "code",
      "source": [
        "vmin = -1e-9\n",
        "vmax = 1e-9\n",
        "scale = 100\n",
        "\n",
        "mask = np.where(x == 100)\n",
        "mask_test = np.where(x_test == 100)\n",
        "\n",
        "x[mask] = 0\n",
        "x_test[mask_test] = 0\n",
        "\n",
        "x = np.clip(x, vmin, vmax)/vmax * scale\n",
        "x_test = np.clip(x_test, vmin, vmax)/vmax * scale\n",
        "\n",
        "x[mask] = 0\n",
        "x_test[mask_test] = 0"
      ],
      "metadata": {
        "id": "b_lo9FiJcLFm"
      },
      "execution_count": null,
      "outputs": []
    },
    {
      "cell_type": "code",
      "source": [
        "import tensorflow as tf\n",
        "from tensorflow.keras import layers\n",
        "\n",
        "def resnet_block(input_layer, num_cnn=3, channel=64, block_num=1):\n",
        "  x = input_layer\n",
        "  for cnn_num in range(num_cnn):\n",
        "    identity = x\n",
        "    x = layers.Conv2D(filters=channel, kernel_size=(1,1), activation='elu', kernel_initializer='he_normal', padding='same')(x)\n",
        "    x = layers.BatchNormalization()(x)\n",
        "    x = layers.Conv2D(filters=channel, kernel_size=(3,3), activation='elu', kernel_initializer='he_normal', padding='same')(x)\n",
        "    x = layers.BatchNormalization()(x)\n",
        "    x = layers.Conv2D(filters=2*channel, kernel_size=(1,1), activation='elu', kernel_initializer='he_normal', padding='same')(x)\n",
        "    #x = layers.BatchNormalization()(x)\n",
        "  \n",
        "  # identity_channel = identity.shape.as_list()[-1]\n",
        "  # x_channel = x.shape.as_list()[-1]\n",
        "  # if  identity_channel != x_channel :\n",
        "  #     identity = layers.Conv2D(x_channel, kernel_size=(1, 1), strides=(1, 1), padding=\"same\")(identity)\n",
        "  # x = layers.Add()([x,identity])\n",
        "  x = layers.MaxPooling2D(pool_size=(2,2))(x)\n",
        "\n",
        "  return x\n",
        "\n",
        "def build_resnet(input_shape=(101,101,1), num_cnn_list=[3,4,6,3], channel_list=[64,128,256,512], num_classes=2):\n",
        "  assert len(num_cnn_list) == len(channel_list)\n",
        "\n",
        "  input_layer = layers.Input(shape=input_shape)\n",
        "  output = input_layer\n",
        "  output = layers.Conv2D(filters=16, kernel_size=(7,7), kernel_initializer='he_normal', padding='same')(output)\n",
        "  output = layers.BatchNormalization()(output)\n",
        "\n",
        "  #output = layers.MaxPooling2D(pool_size=(2,2))(output)\n",
        "\n",
        "  for i, (num_cnn, channel) in enumerate(zip(num_cnn_list, channel_list)):\n",
        "    output = resnet_block(output, num_cnn=num_cnn, channel=channel, block_num=i)\n",
        "\n",
        "  output = layers.AveragePooling2D(padding='same')(output)\n",
        "  output = layers.Flatten()(output)\n",
        "  #output = layers.Dropout(0.35)(output)\n",
        "  output = layers.Dense(1, activation='sigmoid')(output)\n",
        "\n",
        "  model = tf.keras.Model(inputs=input_layer, outputs=output)\n",
        "  return model"
      ],
      "metadata": {
        "id": "9miXLY3e8S_o"
      },
      "execution_count": null,
      "outputs": []
    },
    {
      "cell_type": "code",
      "source": [
        "!pip install tensorflow-addons"
      ],
      "metadata": {
        "colab": {
          "base_uri": "https://localhost:8080/"
        },
        "id": "g9VO33fXy1o3",
        "outputId": "7f37ddc6-8302-4406-c698-0f0098a06ab4"
      },
      "execution_count": null,
      "outputs": [
        {
          "output_type": "stream",
          "name": "stdout",
          "text": [
            "Looking in indexes: https://pypi.org/simple, https://us-python.pkg.dev/colab-wheels/public/simple/\n",
            "Collecting tensorflow-addons\n",
            "  Downloading tensorflow_addons-0.17.1-cp37-cp37m-manylinux_2_17_x86_64.manylinux2014_x86_64.whl (1.1 MB)\n",
            "\u001b[K     |████████████████████████████████| 1.1 MB 31.9 MB/s \n",
            "\u001b[?25hRequirement already satisfied: packaging in /usr/local/lib/python3.7/dist-packages (from tensorflow-addons) (21.3)\n",
            "Requirement already satisfied: typeguard>=2.7 in /usr/local/lib/python3.7/dist-packages (from tensorflow-addons) (2.7.1)\n",
            "Requirement already satisfied: pyparsing!=3.0.5,>=2.0.2 in /usr/local/lib/python3.7/dist-packages (from packaging->tensorflow-addons) (3.0.9)\n",
            "Installing collected packages: tensorflow-addons\n",
            "Successfully installed tensorflow-addons-0.17.1\n"
          ]
        }
      ]
    },
    {
      "cell_type": "code",
      "source": [
        "import tensorflow_addons as tfa\n",
        "\n",
        "resnet = build_resnet(num_cnn_list=[3,3,3,3,3], channel_list=[16,32,64,128,256])\n",
        "\n",
        "first_decay_steps = 1000\n",
        "initial_learning_rate = 0.01\n",
        "\n",
        "wd = lambda: 1e-4\n",
        "optimizer = tfa.optimizers.AdamW(weight_decay=wd)\n",
        "\n",
        "resnet.compile(optimizer='adam', loss='binary_crossentropy', metrics=['accuracy'])"
      ],
      "metadata": {
        "id": "I5qrBnOAt2IV"
      },
      "execution_count": null,
      "outputs": []
    },
    {
      "cell_type": "code",
      "source": [
        "resnet.summary()"
      ],
      "metadata": {
        "colab": {
          "base_uri": "https://localhost:8080/"
        },
        "id": "G5I9gzbseeDy",
        "outputId": "b62d14f3-96a5-45b7-a26f-2cd752f71fc2"
      },
      "execution_count": null,
      "outputs": [
        {
          "output_type": "stream",
          "name": "stdout",
          "text": [
            "Model: \"model\"\n",
            "_________________________________________________________________\n",
            " Layer (type)                Output Shape              Param #   \n",
            "=================================================================\n",
            " input_1 (InputLayer)        [(None, 101, 101, 1)]     0         \n",
            "                                                                 \n",
            " conv2d (Conv2D)             (None, 101, 101, 16)      800       \n",
            "                                                                 \n",
            " batch_normalization (BatchN  (None, 101, 101, 16)     64        \n",
            " ormalization)                                                   \n",
            "                                                                 \n",
            " conv2d_1 (Conv2D)           (None, 101, 101, 16)      272       \n",
            "                                                                 \n",
            " batch_normalization_1 (Batc  (None, 101, 101, 16)     64        \n",
            " hNormalization)                                                 \n",
            "                                                                 \n",
            " conv2d_2 (Conv2D)           (None, 101, 101, 16)      2320      \n",
            "                                                                 \n",
            " batch_normalization_2 (Batc  (None, 101, 101, 16)     64        \n",
            " hNormalization)                                                 \n",
            "                                                                 \n",
            " conv2d_3 (Conv2D)           (None, 101, 101, 32)      544       \n",
            "                                                                 \n",
            " conv2d_4 (Conv2D)           (None, 101, 101, 16)      528       \n",
            "                                                                 \n",
            " batch_normalization_3 (Batc  (None, 101, 101, 16)     64        \n",
            " hNormalization)                                                 \n",
            "                                                                 \n",
            " conv2d_5 (Conv2D)           (None, 101, 101, 16)      2320      \n",
            "                                                                 \n",
            " batch_normalization_4 (Batc  (None, 101, 101, 16)     64        \n",
            " hNormalization)                                                 \n",
            "                                                                 \n",
            " conv2d_6 (Conv2D)           (None, 101, 101, 32)      544       \n",
            "                                                                 \n",
            " conv2d_7 (Conv2D)           (None, 101, 101, 16)      528       \n",
            "                                                                 \n",
            " batch_normalization_5 (Batc  (None, 101, 101, 16)     64        \n",
            " hNormalization)                                                 \n",
            "                                                                 \n",
            " conv2d_8 (Conv2D)           (None, 101, 101, 16)      2320      \n",
            "                                                                 \n",
            " batch_normalization_6 (Batc  (None, 101, 101, 16)     64        \n",
            " hNormalization)                                                 \n",
            "                                                                 \n",
            " conv2d_9 (Conv2D)           (None, 101, 101, 32)      544       \n",
            "                                                                 \n",
            " max_pooling2d (MaxPooling2D  (None, 50, 50, 32)       0         \n",
            " )                                                               \n",
            "                                                                 \n",
            " conv2d_10 (Conv2D)          (None, 50, 50, 32)        1056      \n",
            "                                                                 \n",
            " batch_normalization_7 (Batc  (None, 50, 50, 32)       128       \n",
            " hNormalization)                                                 \n",
            "                                                                 \n",
            " conv2d_11 (Conv2D)          (None, 50, 50, 32)        9248      \n",
            "                                                                 \n",
            " batch_normalization_8 (Batc  (None, 50, 50, 32)       128       \n",
            " hNormalization)                                                 \n",
            "                                                                 \n",
            " conv2d_12 (Conv2D)          (None, 50, 50, 64)        2112      \n",
            "                                                                 \n",
            " conv2d_13 (Conv2D)          (None, 50, 50, 32)        2080      \n",
            "                                                                 \n",
            " batch_normalization_9 (Batc  (None, 50, 50, 32)       128       \n",
            " hNormalization)                                                 \n",
            "                                                                 \n",
            " conv2d_14 (Conv2D)          (None, 50, 50, 32)        9248      \n",
            "                                                                 \n",
            " batch_normalization_10 (Bat  (None, 50, 50, 32)       128       \n",
            " chNormalization)                                                \n",
            "                                                                 \n",
            " conv2d_15 (Conv2D)          (None, 50, 50, 64)        2112      \n",
            "                                                                 \n",
            " conv2d_16 (Conv2D)          (None, 50, 50, 32)        2080      \n",
            "                                                                 \n",
            " batch_normalization_11 (Bat  (None, 50, 50, 32)       128       \n",
            " chNormalization)                                                \n",
            "                                                                 \n",
            " conv2d_17 (Conv2D)          (None, 50, 50, 32)        9248      \n",
            "                                                                 \n",
            " batch_normalization_12 (Bat  (None, 50, 50, 32)       128       \n",
            " chNormalization)                                                \n",
            "                                                                 \n",
            " conv2d_18 (Conv2D)          (None, 50, 50, 64)        2112      \n",
            "                                                                 \n",
            " max_pooling2d_1 (MaxPooling  (None, 25, 25, 64)       0         \n",
            " 2D)                                                             \n",
            "                                                                 \n",
            " conv2d_19 (Conv2D)          (None, 25, 25, 64)        4160      \n",
            "                                                                 \n",
            " batch_normalization_13 (Bat  (None, 25, 25, 64)       256       \n",
            " chNormalization)                                                \n",
            "                                                                 \n",
            " conv2d_20 (Conv2D)          (None, 25, 25, 64)        36928     \n",
            "                                                                 \n",
            " batch_normalization_14 (Bat  (None, 25, 25, 64)       256       \n",
            " chNormalization)                                                \n",
            "                                                                 \n",
            " conv2d_21 (Conv2D)          (None, 25, 25, 128)       8320      \n",
            "                                                                 \n",
            " conv2d_22 (Conv2D)          (None, 25, 25, 64)        8256      \n",
            "                                                                 \n",
            " batch_normalization_15 (Bat  (None, 25, 25, 64)       256       \n",
            " chNormalization)                                                \n",
            "                                                                 \n",
            " conv2d_23 (Conv2D)          (None, 25, 25, 64)        36928     \n",
            "                                                                 \n",
            " batch_normalization_16 (Bat  (None, 25, 25, 64)       256       \n",
            " chNormalization)                                                \n",
            "                                                                 \n",
            " conv2d_24 (Conv2D)          (None, 25, 25, 128)       8320      \n",
            "                                                                 \n",
            " conv2d_25 (Conv2D)          (None, 25, 25, 64)        8256      \n",
            "                                                                 \n",
            " batch_normalization_17 (Bat  (None, 25, 25, 64)       256       \n",
            " chNormalization)                                                \n",
            "                                                                 \n",
            " conv2d_26 (Conv2D)          (None, 25, 25, 64)        36928     \n",
            "                                                                 \n",
            " batch_normalization_18 (Bat  (None, 25, 25, 64)       256       \n",
            " chNormalization)                                                \n",
            "                                                                 \n",
            " conv2d_27 (Conv2D)          (None, 25, 25, 128)       8320      \n",
            "                                                                 \n",
            " max_pooling2d_2 (MaxPooling  (None, 12, 12, 128)      0         \n",
            " 2D)                                                             \n",
            "                                                                 \n",
            " conv2d_28 (Conv2D)          (None, 12, 12, 128)       16512     \n",
            "                                                                 \n",
            " batch_normalization_19 (Bat  (None, 12, 12, 128)      512       \n",
            " chNormalization)                                                \n",
            "                                                                 \n",
            " conv2d_29 (Conv2D)          (None, 12, 12, 128)       147584    \n",
            "                                                                 \n",
            " batch_normalization_20 (Bat  (None, 12, 12, 128)      512       \n",
            " chNormalization)                                                \n",
            "                                                                 \n",
            " conv2d_30 (Conv2D)          (None, 12, 12, 256)       33024     \n",
            "                                                                 \n",
            " conv2d_31 (Conv2D)          (None, 12, 12, 128)       32896     \n",
            "                                                                 \n",
            " batch_normalization_21 (Bat  (None, 12, 12, 128)      512       \n",
            " chNormalization)                                                \n",
            "                                                                 \n",
            " conv2d_32 (Conv2D)          (None, 12, 12, 128)       147584    \n",
            "                                                                 \n",
            " batch_normalization_22 (Bat  (None, 12, 12, 128)      512       \n",
            " chNormalization)                                                \n",
            "                                                                 \n",
            " conv2d_33 (Conv2D)          (None, 12, 12, 256)       33024     \n",
            "                                                                 \n",
            " conv2d_34 (Conv2D)          (None, 12, 12, 128)       32896     \n",
            "                                                                 \n",
            " batch_normalization_23 (Bat  (None, 12, 12, 128)      512       \n",
            " chNormalization)                                                \n",
            "                                                                 \n",
            " conv2d_35 (Conv2D)          (None, 12, 12, 128)       147584    \n",
            "                                                                 \n",
            " batch_normalization_24 (Bat  (None, 12, 12, 128)      512       \n",
            " chNormalization)                                                \n",
            "                                                                 \n",
            " conv2d_36 (Conv2D)          (None, 12, 12, 256)       33024     \n",
            "                                                                 \n",
            " max_pooling2d_3 (MaxPooling  (None, 6, 6, 256)        0         \n",
            " 2D)                                                             \n",
            "                                                                 \n",
            " conv2d_37 (Conv2D)          (None, 6, 6, 256)         65792     \n",
            "                                                                 \n",
            " batch_normalization_25 (Bat  (None, 6, 6, 256)        1024      \n",
            " chNormalization)                                                \n",
            "                                                                 \n",
            " conv2d_38 (Conv2D)          (None, 6, 6, 256)         590080    \n",
            "                                                                 \n",
            " batch_normalization_26 (Bat  (None, 6, 6, 256)        1024      \n",
            " chNormalization)                                                \n",
            "                                                                 \n",
            " conv2d_39 (Conv2D)          (None, 6, 6, 512)         131584    \n",
            "                                                                 \n",
            " conv2d_40 (Conv2D)          (None, 6, 6, 256)         131328    \n",
            "                                                                 \n",
            " batch_normalization_27 (Bat  (None, 6, 6, 256)        1024      \n",
            " chNormalization)                                                \n",
            "                                                                 \n",
            " conv2d_41 (Conv2D)          (None, 6, 6, 256)         590080    \n",
            "                                                                 \n",
            " batch_normalization_28 (Bat  (None, 6, 6, 256)        1024      \n",
            " chNormalization)                                                \n",
            "                                                                 \n",
            " conv2d_42 (Conv2D)          (None, 6, 6, 512)         131584    \n",
            "                                                                 \n",
            " conv2d_43 (Conv2D)          (None, 6, 6, 256)         131328    \n",
            "                                                                 \n",
            " batch_normalization_29 (Bat  (None, 6, 6, 256)        1024      \n",
            " chNormalization)                                                \n",
            "                                                                 \n",
            " conv2d_44 (Conv2D)          (None, 6, 6, 256)         590080    \n",
            "                                                                 \n",
            " batch_normalization_30 (Bat  (None, 6, 6, 256)        1024      \n",
            " chNormalization)                                                \n",
            "                                                                 \n",
            " conv2d_45 (Conv2D)          (None, 6, 6, 512)         131584    \n",
            "                                                                 \n",
            " max_pooling2d_4 (MaxPooling  (None, 3, 3, 512)        0         \n",
            " 2D)                                                             \n",
            "                                                                 \n",
            " average_pooling2d (AverageP  (None, 2, 2, 512)        0         \n",
            " ooling2D)                                                       \n",
            "                                                                 \n",
            " flatten (Flatten)           (None, 2048)              0         \n",
            "                                                                 \n",
            " dense (Dense)               (None, 1)                 2049      \n",
            "                                                                 \n",
            "=================================================================\n",
            "Total params: 3,338,017\n",
            "Trainable params: 3,332,033\n",
            "Non-trainable params: 5,984\n",
            "_________________________________________________________________\n"
          ]
        }
      ]
    },
    {
      "cell_type": "code",
      "source": [
        "stop = tf.keras.callbacks.EarlyStopping()\n",
        "\n",
        "period = 1\n",
        "cp_callback = tf.keras.callbacks.ModelCheckpoint(filepath='/content/drive/MyDrive/real_final_model/model_{epoch}.ckpt', save_weights_only=False, verbose=1, period=period)\n",
        "\n",
        "hist = resnet.fit(x, y, batch_size = 100,epochs=20,validation_data=(x_test, y_test), validation_split=0.2, callbacks=[cp_callback]) "
      ],
      "metadata": {
        "colab": {
          "base_uri": "https://localhost:8080/"
        },
        "id": "_WMvmuCMzJ_e",
        "outputId": "515a8ca4-1dc5-4dcb-b8b3-4faac6ecfc2a"
      },
      "execution_count": null,
      "outputs": [
        {
          "output_type": "stream",
          "name": "stderr",
          "text": [
            "WARNING:tensorflow:`period` argument is deprecated. Please use `save_freq` to specify the frequency in number of batches seen.\n"
          ]
        },
        {
          "output_type": "stream",
          "name": "stdout",
          "text": [
            "Epoch 1/20\n",
            "142/142 [==============================] - ETA: 0s - loss: 0.1895 - accuracy: 0.9672\n",
            "Epoch 1: saving model to /content/drive/MyDrive/real_final_model/model_1.ckpt\n",
            "142/142 [==============================] - 69s 386ms/step - loss: 0.1895 - accuracy: 0.9672 - val_loss: 9.4711 - val_accuracy: 0.5144\n",
            "Epoch 2/20\n",
            "142/142 [==============================] - ETA: 0s - loss: 0.0511 - accuracy: 0.9910\n",
            "Epoch 2: saving model to /content/drive/MyDrive/real_final_model/model_2.ckpt\n",
            "142/142 [==============================] - 54s 383ms/step - loss: 0.0511 - accuracy: 0.9910 - val_loss: 0.8838 - val_accuracy: 0.8255\n",
            "Epoch 3/20\n",
            "142/142 [==============================] - ETA: 0s - loss: 0.0471 - accuracy: 0.9915\n",
            "Epoch 3: saving model to /content/drive/MyDrive/real_final_model/model_3.ckpt\n",
            "142/142 [==============================] - 51s 360ms/step - loss: 0.0471 - accuracy: 0.9915 - val_loss: 0.7738 - val_accuracy: 0.7252\n",
            "Epoch 4/20\n",
            "142/142 [==============================] - ETA: 0s - loss: 0.0472 - accuracy: 0.9918\n",
            "Epoch 4: saving model to /content/drive/MyDrive/real_final_model/model_4.ckpt\n",
            "142/142 [==============================] - 51s 363ms/step - loss: 0.0472 - accuracy: 0.9918 - val_loss: 2.0100 - val_accuracy: 0.6229\n",
            "Epoch 5/20\n",
            "142/142 [==============================] - ETA: 0s - loss: 0.0469 - accuracy: 0.9915\n",
            "Epoch 5: saving model to /content/drive/MyDrive/real_final_model/model_5.ckpt\n",
            "142/142 [==============================] - 51s 362ms/step - loss: 0.0469 - accuracy: 0.9915 - val_loss: 3.8324 - val_accuracy: 0.5575\n",
            "Epoch 6/20\n",
            "142/142 [==============================] - ETA: 0s - loss: 0.0459 - accuracy: 0.9920\n",
            "Epoch 6: saving model to /content/drive/MyDrive/real_final_model/model_6.ckpt\n",
            "142/142 [==============================] - 52s 364ms/step - loss: 0.0459 - accuracy: 0.9920 - val_loss: 3.5330 - val_accuracy: 0.5225\n",
            "Epoch 7/20\n",
            "142/142 [==============================] - ETA: 0s - loss: 0.0432 - accuracy: 0.9920\n",
            "Epoch 7: saving model to /content/drive/MyDrive/real_final_model/model_7.ckpt\n",
            "142/142 [==============================] - 51s 362ms/step - loss: 0.0432 - accuracy: 0.9920 - val_loss: 2.0481 - val_accuracy: 0.6291\n",
            "Epoch 8/20\n",
            "142/142 [==============================] - ETA: 0s - loss: 0.0443 - accuracy: 0.9920\n",
            "Epoch 8: saving model to /content/drive/MyDrive/real_final_model/model_8.ckpt\n",
            "142/142 [==============================] - 52s 363ms/step - loss: 0.0443 - accuracy: 0.9920 - val_loss: 0.3565 - val_accuracy: 0.9679\n",
            "Epoch 9/20\n",
            "142/142 [==============================] - ETA: 0s - loss: 0.0431 - accuracy: 0.9919\n",
            "Epoch 9: saving model to /content/drive/MyDrive/real_final_model/model_9.ckpt\n",
            "142/142 [==============================] - 52s 363ms/step - loss: 0.0431 - accuracy: 0.9919 - val_loss: 0.9505 - val_accuracy: 0.8647\n",
            "Epoch 10/20\n",
            "142/142 [==============================] - ETA: 0s - loss: 0.0563 - accuracy: 0.9906\n",
            "Epoch 10: saving model to /content/drive/MyDrive/real_final_model/model_10.ckpt\n",
            "142/142 [==============================] - 52s 363ms/step - loss: 0.0563 - accuracy: 0.9906 - val_loss: 3.8353 - val_accuracy: 0.5682\n",
            "Epoch 11/20\n",
            "142/142 [==============================] - ETA: 0s - loss: 0.0454 - accuracy: 0.9916\n",
            "Epoch 11: saving model to /content/drive/MyDrive/real_final_model/model_11.ckpt\n",
            "142/142 [==============================] - 52s 364ms/step - loss: 0.0454 - accuracy: 0.9916 - val_loss: 1.6988 - val_accuracy: 0.6778\n",
            "Epoch 12/20\n",
            "142/142 [==============================] - ETA: 0s - loss: 0.0432 - accuracy: 0.9920\n",
            "Epoch 12: saving model to /content/drive/MyDrive/real_final_model/model_12.ckpt\n",
            "142/142 [==============================] - 52s 365ms/step - loss: 0.0432 - accuracy: 0.9920 - val_loss: 0.3881 - val_accuracy: 0.9273\n",
            "Epoch 13/20\n",
            "142/142 [==============================] - ETA: 0s - loss: 0.0427 - accuracy: 0.9920\n",
            "Epoch 13: saving model to /content/drive/MyDrive/real_final_model/model_13.ckpt\n",
            "142/142 [==============================] - 52s 365ms/step - loss: 0.0427 - accuracy: 0.9920 - val_loss: 0.1662 - val_accuracy: 0.9636\n",
            "Epoch 14/20\n",
            "142/142 [==============================] - ETA: 0s - loss: 0.0427 - accuracy: 0.9919\n",
            "Epoch 14: saving model to /content/drive/MyDrive/real_final_model/model_14.ckpt\n",
            "142/142 [==============================] - 51s 362ms/step - loss: 0.0427 - accuracy: 0.9919 - val_loss: 0.1190 - val_accuracy: 0.9755\n",
            "Epoch 15/20\n",
            "142/142 [==============================] - ETA: 0s - loss: 0.0419 - accuracy: 0.9920\n",
            "Epoch 15: saving model to /content/drive/MyDrive/real_final_model/model_15.ckpt\n",
            "142/142 [==============================] - 51s 363ms/step - loss: 0.0419 - accuracy: 0.9920 - val_loss: 0.5178 - val_accuracy: 0.9115\n",
            "Epoch 16/20\n",
            "142/142 [==============================] - ETA: 0s - loss: 0.0422 - accuracy: 0.9921\n",
            "Epoch 16: saving model to /content/drive/MyDrive/real_final_model/model_16.ckpt\n",
            "142/142 [==============================] - 51s 363ms/step - loss: 0.0422 - accuracy: 0.9921 - val_loss: 0.1784 - val_accuracy: 0.9763\n",
            "Epoch 17/20\n",
            "142/142 [==============================] - ETA: 0s - loss: 0.0427 - accuracy: 0.9921\n",
            "Epoch 17: saving model to /content/drive/MyDrive/real_final_model/model_17.ckpt\n",
            "142/142 [==============================] - 52s 366ms/step - loss: 0.0427 - accuracy: 0.9921 - val_loss: 0.0926 - val_accuracy: 0.9817\n",
            "Epoch 18/20\n",
            "142/142 [==============================] - ETA: 0s - loss: 0.0464 - accuracy: 0.9915\n",
            "Epoch 18: saving model to /content/drive/MyDrive/real_final_model/model_18.ckpt\n",
            "142/142 [==============================] - 51s 363ms/step - loss: 0.0464 - accuracy: 0.9915 - val_loss: 8.3948 - val_accuracy: 0.5144\n",
            "Epoch 19/20\n",
            "142/142 [==============================] - ETA: 0s - loss: 0.0443 - accuracy: 0.9915\n",
            "Epoch 19: saving model to /content/drive/MyDrive/real_final_model/model_19.ckpt\n",
            "142/142 [==============================] - 52s 364ms/step - loss: 0.0443 - accuracy: 0.9915 - val_loss: 12.1674 - val_accuracy: 0.5144\n",
            "Epoch 20/20\n",
            "142/142 [==============================] - ETA: 0s - loss: 0.0425 - accuracy: 0.9920\n",
            "Epoch 20: saving model to /content/drive/MyDrive/real_final_model/model_20.ckpt\n",
            "142/142 [==============================] - 52s 363ms/step - loss: 0.0425 - accuracy: 0.9920 - val_loss: 10.1250 - val_accuracy: 0.5144\n"
          ]
        }
      ]
    },
    {
      "cell_type": "code",
      "source": [
        "import matplotlib.pyplot as plt\n",
        "def plot_accuracy(history):\n",
        "  \n",
        "\n",
        "  plt.plot(history.history[\"accuracy\"],label='train accuracy')\n",
        "  plt.plot(history.history[\"val_accuracy\"],label='test accuracy')\n",
        "  plt.xticks(np.arange(0, 20, 1))\n",
        "  plt.ylabel(\"Accuracy\")\n",
        "  # plt.legend(loc = \"upper right\")\n",
        "  plt.title(\"Accuracy eval\")\n",
        "def plot_loss(history):\n",
        "  plt.plot(history.history['loss'])\n",
        "  plt.plot(history.history['val_loss'])\n",
        "  plt.title('Loss vs. epochs')\n",
        "  plt.ylabel('Loss')\n",
        "  plt.xticks(np.arange(0, 20, 1))\n",
        "  plt.ylim(0,10)\n",
        "  plt.xlabel('Epoch')\n",
        "  plt.legend(['Training', 'Validation'], loc='upper right')\n",
        "  plt.show()\n",
        "\n",
        "\n",
        "plot_loss(hist)\n",
        "plot_accuracy(hist)"
      ],
      "metadata": {
        "colab": {
          "base_uri": "https://localhost:8080/",
          "height": 559
        },
        "id": "Cwd67cVWmUhz",
        "outputId": "ffb78a73-c713-46f8-99fe-a2ee2bc66109"
      },
      "execution_count": null,
      "outputs": [
        {
          "output_type": "display_data",
          "data": {
            "text/plain": [
              "<Figure size 432x288 with 1 Axes>"
            ],
            "image/png": "[encoded data removed]"
          },
          "metadata": {
            "needs_background": "light"
          }
        },
        {
          "output_type": "display_data",
          "data": {
            "text/plain": [
              "<Figure size 432x288 with 1 Axes>"
            ],
            "image/png": "[encoded data removed]"
          },
          "metadata": {
            "needs_background": "light"
          }
        }
      ]
    },
    {
      "cell_type": "code",
      "source": [
        "resnet.evaluate(x_test, y_test, batch_size=10)"
      ],
      "metadata": {
        "id": "_j23NYv_2qVc"
      },
      "execution_count": null,
      "outputs": []
    },
    {
      "cell_type": "code",
      "source": [
        "import tensorflow as tf\n",
        "from tensorflow.keras import layers\n",
        "import os,sys \n",
        "sys.path.append(os.pardir)\n",
        "\n",
        "\n",
        "\n",
        "\n",
        "for i in [16,17]:\n",
        "  checkpoint_path = f'/content/drive/MyDrive/real_final_model/model_{i}.ckpt'\n",
        "  print(checkpoint_path)\n",
        "  eval_model = build_resnet(num_cnn_list=[3,3,3,3,3], channel_list=[16,32,64,128,256])\n",
        "  eval_model.load_weights(checkpoint_path)\n",
        "  eval_model.compile(optimizer ='Adam', loss='binary_crossentropy', metrics=['accuracy'])\n",
        "  eval_model.evaluate(x_test, y_test)"
      ],
      "metadata": {
        "colab": {
          "base_uri": "https://localhost:8080/"
        },
        "id": "Txwr_LJ824P5",
        "outputId": "ed1787f4-fed1-4404-bb6e-36474f7731fd"
      },
      "execution_count": null,
      "outputs": [
        {
          "output_type": "stream",
          "name": "stdout",
          "text": [
            "/content/drive/MyDrive/real_final_model/model_16.ckpt\n",
            "75/75 [==============================] - 4s 33ms/step - loss: 0.1176 - accuracy: 0.9821\n",
            "/content/drive/MyDrive/real_final_model/model_17.ckpt\n",
            "75/75 [==============================] - 3s 30ms/step - loss: 0.0541 - accuracy: 0.9879\n"
          ]
        }
      ]
    }
  ]
}
