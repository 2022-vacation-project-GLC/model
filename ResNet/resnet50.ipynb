{
  "cells": [
    {
      "cell_type": "code",
      "execution_count": null,
      "metadata": {
        "id": "WBKVhXESZ83U",
        "colab": {
          "base_uri": "https://localhost:8080/",
          "height": 375
        },
        "outputId": "5399935c-4262-43e6-bf68-0e1d34e0a59c"
      },
      "outputs": [
        {
          "output_type": "error",
          "ename": "KeyboardInterrupt",
          "evalue": "ignored",
          "traceback": [
            "\u001b[0;31m---------------------------------------------------------------------------\u001b[0m",
            "\u001b[0;31mFileNotFoundError\u001b[0m                         Traceback (most recent call last)",
            "\u001b[0;32m/usr/lib/python3.7/importlib/_bootstrap_external.py\u001b[0m in \u001b[0;36m_path_is_mode_type\u001b[0;34m(path, mode)\u001b[0m\n",
            "\u001b[0;32m/usr/lib/python3.7/importlib/_bootstrap_external.py\u001b[0m in \u001b[0;36m_path_stat\u001b[0;34m(path)\u001b[0m\n",
            "\u001b[0;31mFileNotFoundError\u001b[0m: [Errno 2] No such file or directory: '/usr/local/lib/python3.7/dist-packages/importlib_resources/__init__.cpython-37m-x86_64-linux-gnu.so'",
            "\nDuring handling of the above exception, another exception occurred:\n",
            "\u001b[0;31mKeyboardInterrupt\u001b[0m                         Traceback (most recent call last)",
            "\u001b[0;32m<ipython-input-1-fc0dcd983619>\u001b[0m in \u001b[0;36m<module>\u001b[0;34m()\u001b[0m\n\u001b[0;32m----> 1\u001b[0;31m \u001b[0;32mimport\u001b[0m \u001b[0mtensorflow\u001b[0m \u001b[0;32mas\u001b[0m \u001b[0mtf\u001b[0m\u001b[0;34m\u001b[0m\u001b[0;34m\u001b[0m\u001b[0m\n\u001b[0m\u001b[1;32m      2\u001b[0m \u001b[0;32mfrom\u001b[0m \u001b[0mtensorflow\u001b[0m\u001b[0;34m.\u001b[0m\u001b[0mkeras\u001b[0m \u001b[0;32mimport\u001b[0m \u001b[0mlayers\u001b[0m\u001b[0;34m\u001b[0m\u001b[0;34m\u001b[0m\u001b[0m\n\u001b[1;32m      3\u001b[0m \u001b[0;34m\u001b[0m\u001b[0m\n\u001b[1;32m      4\u001b[0m \u001b[0;32mdef\u001b[0m \u001b[0mcmu_resnet_block\u001b[0m\u001b[0;34m(\u001b[0m\u001b[0minput_layer\u001b[0m\u001b[0;34m,\u001b[0m \u001b[0mnum_cnn\u001b[0m\u001b[0;34m=\u001b[0m\u001b[0;36m3\u001b[0m\u001b[0;34m,\u001b[0m \u001b[0mchannel\u001b[0m\u001b[0;34m=\u001b[0m\u001b[0;36m64\u001b[0m\u001b[0;34m,\u001b[0m \u001b[0mblock_num\u001b[0m\u001b[0;34m=\u001b[0m\u001b[0;36m1\u001b[0m\u001b[0;34m)\u001b[0m\u001b[0;34m:\u001b[0m\u001b[0;34m\u001b[0m\u001b[0;34m\u001b[0m\u001b[0m\n\u001b[1;32m      5\u001b[0m   \u001b[0mx\u001b[0m \u001b[0;34m=\u001b[0m \u001b[0minput_layer\u001b[0m\u001b[0;34m\u001b[0m\u001b[0;34m\u001b[0m\u001b[0m\n",
            "\u001b[0;32m/usr/local/lib/python3.7/dist-packages/tensorflow/__init__.py\u001b[0m in \u001b[0;36m<module>\u001b[0;34m()\u001b[0m\n\u001b[1;32m     49\u001b[0m \u001b[0;32mfrom\u001b[0m \u001b[0;34m.\u001b[0m\u001b[0m_api\u001b[0m\u001b[0;34m.\u001b[0m\u001b[0mv2\u001b[0m \u001b[0;32mimport\u001b[0m \u001b[0mautograph\u001b[0m\u001b[0;34m\u001b[0m\u001b[0;34m\u001b[0m\u001b[0m\n\u001b[1;32m     50\u001b[0m \u001b[0;32mfrom\u001b[0m \u001b[0;34m.\u001b[0m\u001b[0m_api\u001b[0m\u001b[0;34m.\u001b[0m\u001b[0mv2\u001b[0m \u001b[0;32mimport\u001b[0m \u001b[0mbitwise\u001b[0m\u001b[0;34m\u001b[0m\u001b[0;34m\u001b[0m\u001b[0m\n\u001b[0;32m---> 51\u001b[0;31m \u001b[0;32mfrom\u001b[0m \u001b[0;34m.\u001b[0m\u001b[0m_api\u001b[0m\u001b[0;34m.\u001b[0m\u001b[0mv2\u001b[0m \u001b[0;32mimport\u001b[0m \u001b[0mcompat\u001b[0m\u001b[0;34m\u001b[0m\u001b[0;34m\u001b[0m\u001b[0m\n\u001b[0m\u001b[1;32m     52\u001b[0m \u001b[0;32mfrom\u001b[0m \u001b[0;34m.\u001b[0m\u001b[0m_api\u001b[0m\u001b[0;34m.\u001b[0m\u001b[0mv2\u001b[0m \u001b[0;32mimport\u001b[0m \u001b[0mconfig\u001b[0m\u001b[0;34m\u001b[0m\u001b[0;34m\u001b[0m\u001b[0m\n\u001b[1;32m     53\u001b[0m \u001b[0;32mfrom\u001b[0m \u001b[0;34m.\u001b[0m\u001b[0m_api\u001b[0m\u001b[0;34m.\u001b[0m\u001b[0mv2\u001b[0m \u001b[0;32mimport\u001b[0m \u001b[0mdata\u001b[0m\u001b[0;34m\u001b[0m\u001b[0;34m\u001b[0m\u001b[0m\n",
            "\u001b[0;32m/usr/local/lib/python3.7/dist-packages/tensorflow/_api/v2/compat/__init__.py\u001b[0m in \u001b[0;36m<module>\u001b[0;34m()\u001b[0m\n\u001b[1;32m     35\u001b[0m \u001b[0;32mimport\u001b[0m \u001b[0msys\u001b[0m \u001b[0;32mas\u001b[0m \u001b[0m_sys\u001b[0m\u001b[0;34m\u001b[0m\u001b[0;34m\u001b[0m\u001b[0m\n\u001b[1;32m     36\u001b[0m \u001b[0;34m\u001b[0m\u001b[0m\n\u001b[0;32m---> 37\u001b[0;31m \u001b[0;32mfrom\u001b[0m \u001b[0;34m.\u001b[0m \u001b[0;32mimport\u001b[0m \u001b[0mv1\u001b[0m\u001b[0;34m\u001b[0m\u001b[0;34m\u001b[0m\u001b[0m\n\u001b[0m\u001b[1;32m     38\u001b[0m \u001b[0;32mfrom\u001b[0m \u001b[0;34m.\u001b[0m \u001b[0;32mimport\u001b[0m \u001b[0mv2\u001b[0m\u001b[0;34m\u001b[0m\u001b[0;34m\u001b[0m\u001b[0m\n\u001b[1;32m     39\u001b[0m \u001b[0;32mfrom\u001b[0m \u001b[0mtensorflow\u001b[0m\u001b[0;34m.\u001b[0m\u001b[0mpython\u001b[0m\u001b[0;34m.\u001b[0m\u001b[0mcompat\u001b[0m\u001b[0;34m.\u001b[0m\u001b[0mcompat\u001b[0m \u001b[0;32mimport\u001b[0m \u001b[0mforward_compatibility_horizon\u001b[0m\u001b[0;34m\u001b[0m\u001b[0;34m\u001b[0m\u001b[0m\n",
            "\u001b[0;32m/usr/local/lib/python3.7/dist-packages/tensorflow/_api/v2/compat/v1/__init__.py\u001b[0m in \u001b[0;36m<module>\u001b[0;34m()\u001b[0m\n\u001b[1;32m     28\u001b[0m \u001b[0;32mfrom\u001b[0m \u001b[0;34m.\u001b[0m \u001b[0;32mimport\u001b[0m \u001b[0mautograph\u001b[0m\u001b[0;34m\u001b[0m\u001b[0;34m\u001b[0m\u001b[0m\n\u001b[1;32m     29\u001b[0m \u001b[0;32mfrom\u001b[0m \u001b[0;34m.\u001b[0m \u001b[0;32mimport\u001b[0m \u001b[0mbitwise\u001b[0m\u001b[0;34m\u001b[0m\u001b[0;34m\u001b[0m\u001b[0m\n\u001b[0;32m---> 30\u001b[0;31m \u001b[0;32mfrom\u001b[0m \u001b[0;34m.\u001b[0m \u001b[0;32mimport\u001b[0m \u001b[0mcompat\u001b[0m\u001b[0;34m\u001b[0m\u001b[0;34m\u001b[0m\u001b[0m\n\u001b[0m\u001b[1;32m     31\u001b[0m \u001b[0;32mfrom\u001b[0m \u001b[0;34m.\u001b[0m \u001b[0;32mimport\u001b[0m \u001b[0mconfig\u001b[0m\u001b[0;34m\u001b[0m\u001b[0;34m\u001b[0m\u001b[0m\n\u001b[1;32m     32\u001b[0m \u001b[0;32mfrom\u001b[0m \u001b[0;34m.\u001b[0m \u001b[0;32mimport\u001b[0m \u001b[0mdata\u001b[0m\u001b[0;34m\u001b[0m\u001b[0;34m\u001b[0m\u001b[0m\n",
            "\u001b[0;32m/usr/local/lib/python3.7/dist-packages/tensorflow/_api/v2/compat/v1/compat/__init__.py\u001b[0m in \u001b[0;36m<module>\u001b[0;34m()\u001b[0m\n\u001b[1;32m     35\u001b[0m \u001b[0;32mimport\u001b[0m \u001b[0msys\u001b[0m \u001b[0;32mas\u001b[0m \u001b[0m_sys\u001b[0m\u001b[0;34m\u001b[0m\u001b[0;34m\u001b[0m\u001b[0m\n\u001b[1;32m     36\u001b[0m \u001b[0;34m\u001b[0m\u001b[0m\n\u001b[0;32m---> 37\u001b[0;31m \u001b[0;32mfrom\u001b[0m \u001b[0;34m.\u001b[0m \u001b[0;32mimport\u001b[0m \u001b[0mv1\u001b[0m\u001b[0;34m\u001b[0m\u001b[0;34m\u001b[0m\u001b[0m\n\u001b[0m\u001b[1;32m     38\u001b[0m \u001b[0;32mfrom\u001b[0m \u001b[0;34m.\u001b[0m \u001b[0;32mimport\u001b[0m \u001b[0mv2\u001b[0m\u001b[0;34m\u001b[0m\u001b[0;34m\u001b[0m\u001b[0m\n\u001b[1;32m     39\u001b[0m \u001b[0;32mfrom\u001b[0m \u001b[0mtensorflow\u001b[0m\u001b[0;34m.\u001b[0m\u001b[0mpython\u001b[0m\u001b[0;34m.\u001b[0m\u001b[0mcompat\u001b[0m\u001b[0;34m.\u001b[0m\u001b[0mcompat\u001b[0m \u001b[0;32mimport\u001b[0m \u001b[0mforward_compatibility_horizon\u001b[0m\u001b[0;34m\u001b[0m\u001b[0;34m\u001b[0m\u001b[0m\n",
            "\u001b[0;32m/usr/local/lib/python3.7/dist-packages/tensorflow/_api/v2/compat/v1/compat/v1/__init__.py\u001b[0m in \u001b[0;36m<module>\u001b[0;34m()\u001b[0m\n\u001b[1;32m     45\u001b[0m \u001b[0;32mfrom\u001b[0m \u001b[0mtensorflow\u001b[0m\u001b[0;34m.\u001b[0m\u001b[0m_api\u001b[0m\u001b[0;34m.\u001b[0m\u001b[0mv2\u001b[0m\u001b[0;34m.\u001b[0m\u001b[0mcompat\u001b[0m\u001b[0;34m.\u001b[0m\u001b[0mv1\u001b[0m \u001b[0;32mimport\u001b[0m \u001b[0mlayers\u001b[0m\u001b[0;34m\u001b[0m\u001b[0;34m\u001b[0m\u001b[0m\n\u001b[1;32m     46\u001b[0m \u001b[0;32mfrom\u001b[0m \u001b[0mtensorflow\u001b[0m\u001b[0;34m.\u001b[0m\u001b[0m_api\u001b[0m\u001b[0;34m.\u001b[0m\u001b[0mv2\u001b[0m\u001b[0;34m.\u001b[0m\u001b[0mcompat\u001b[0m\u001b[0;34m.\u001b[0m\u001b[0mv1\u001b[0m \u001b[0;32mimport\u001b[0m \u001b[0mlinalg\u001b[0m\u001b[0;34m\u001b[0m\u001b[0;34m\u001b[0m\u001b[0m\n\u001b[0;32m---> 47\u001b[0;31m \u001b[0;32mfrom\u001b[0m \u001b[0mtensorflow\u001b[0m\u001b[0;34m.\u001b[0m\u001b[0m_api\u001b[0m\u001b[0;34m.\u001b[0m\u001b[0mv2\u001b[0m\u001b[0;34m.\u001b[0m\u001b[0mcompat\u001b[0m\u001b[0;34m.\u001b[0m\u001b[0mv1\u001b[0m \u001b[0;32mimport\u001b[0m \u001b[0mlite\u001b[0m\u001b[0;34m\u001b[0m\u001b[0;34m\u001b[0m\u001b[0m\n\u001b[0m\u001b[1;32m     48\u001b[0m \u001b[0;32mfrom\u001b[0m \u001b[0mtensorflow\u001b[0m\u001b[0;34m.\u001b[0m\u001b[0m_api\u001b[0m\u001b[0;34m.\u001b[0m\u001b[0mv2\u001b[0m\u001b[0;34m.\u001b[0m\u001b[0mcompat\u001b[0m\u001b[0;34m.\u001b[0m\u001b[0mv1\u001b[0m \u001b[0;32mimport\u001b[0m \u001b[0mlogging\u001b[0m\u001b[0;34m\u001b[0m\u001b[0;34m\u001b[0m\u001b[0m\n\u001b[1;32m     49\u001b[0m \u001b[0;32mfrom\u001b[0m \u001b[0mtensorflow\u001b[0m\u001b[0;34m.\u001b[0m\u001b[0m_api\u001b[0m\u001b[0;34m.\u001b[0m\u001b[0mv2\u001b[0m\u001b[0;34m.\u001b[0m\u001b[0mcompat\u001b[0m\u001b[0;34m.\u001b[0m\u001b[0mv1\u001b[0m \u001b[0;32mimport\u001b[0m \u001b[0mlookup\u001b[0m\u001b[0;34m\u001b[0m\u001b[0;34m\u001b[0m\u001b[0m\n",
            "\u001b[0;32m/usr/local/lib/python3.7/dist-packages/tensorflow/_api/v2/compat/v1/lite/__init__.py\u001b[0m in \u001b[0;36m<module>\u001b[0;34m()\u001b[0m\n\u001b[1;32m      7\u001b[0m \u001b[0;34m\u001b[0m\u001b[0m\n\u001b[1;32m      8\u001b[0m \u001b[0;32mfrom\u001b[0m \u001b[0;34m.\u001b[0m \u001b[0;32mimport\u001b[0m \u001b[0mconstants\u001b[0m\u001b[0;34m\u001b[0m\u001b[0;34m\u001b[0m\u001b[0m\n\u001b[0;32m----> 9\u001b[0;31m \u001b[0;32mfrom\u001b[0m \u001b[0;34m.\u001b[0m \u001b[0;32mimport\u001b[0m \u001b[0mexperimental\u001b[0m\u001b[0;34m\u001b[0m\u001b[0;34m\u001b[0m\u001b[0m\n\u001b[0m\u001b[1;32m     10\u001b[0m \u001b[0;32mfrom\u001b[0m \u001b[0mtensorflow\u001b[0m\u001b[0;34m.\u001b[0m\u001b[0mlite\u001b[0m\u001b[0;34m.\u001b[0m\u001b[0mpython\u001b[0m\u001b[0;34m.\u001b[0m\u001b[0mlite\u001b[0m \u001b[0;32mimport\u001b[0m \u001b[0mInterpreter\u001b[0m\u001b[0;34m\u001b[0m\u001b[0;34m\u001b[0m\u001b[0m\n\u001b[1;32m     11\u001b[0m \u001b[0;32mfrom\u001b[0m \u001b[0mtensorflow\u001b[0m\u001b[0;34m.\u001b[0m\u001b[0mlite\u001b[0m\u001b[0;34m.\u001b[0m\u001b[0mpython\u001b[0m\u001b[0;34m.\u001b[0m\u001b[0mlite\u001b[0m \u001b[0;32mimport\u001b[0m \u001b[0mOpHint\u001b[0m\u001b[0;34m\u001b[0m\u001b[0;34m\u001b[0m\u001b[0m\n",
            "\u001b[0;32m/usr/local/lib/python3.7/dist-packages/tensorflow/_api/v2/compat/v1/lite/experimental/__init__.py\u001b[0m in \u001b[0;36m<module>\u001b[0;34m()\u001b[0m\n\u001b[1;32m      6\u001b[0m \u001b[0;32mimport\u001b[0m \u001b[0msys\u001b[0m \u001b[0;32mas\u001b[0m \u001b[0m_sys\u001b[0m\u001b[0;34m\u001b[0m\u001b[0;34m\u001b[0m\u001b[0m\n\u001b[1;32m      7\u001b[0m \u001b[0;34m\u001b[0m\u001b[0m\n\u001b[0;32m----> 8\u001b[0;31m \u001b[0;32mfrom\u001b[0m \u001b[0;34m.\u001b[0m \u001b[0;32mimport\u001b[0m \u001b[0mauthoring\u001b[0m\u001b[0;34m\u001b[0m\u001b[0;34m\u001b[0m\u001b[0m\n\u001b[0m\u001b[1;32m      9\u001b[0m \u001b[0;32mfrom\u001b[0m \u001b[0mtensorflow\u001b[0m\u001b[0;34m.\u001b[0m\u001b[0mlite\u001b[0m\u001b[0;34m.\u001b[0m\u001b[0mpython\u001b[0m\u001b[0;34m.\u001b[0m\u001b[0manalyzer\u001b[0m \u001b[0;32mimport\u001b[0m \u001b[0mModelAnalyzer\u001b[0m \u001b[0;32mas\u001b[0m \u001b[0mAnalyzer\u001b[0m\u001b[0;34m\u001b[0m\u001b[0;34m\u001b[0m\u001b[0m\n\u001b[1;32m     10\u001b[0m \u001b[0;32mfrom\u001b[0m \u001b[0mtensorflow\u001b[0m\u001b[0;34m.\u001b[0m\u001b[0mlite\u001b[0m\u001b[0;34m.\u001b[0m\u001b[0mpython\u001b[0m\u001b[0;34m.\u001b[0m\u001b[0mlite\u001b[0m \u001b[0;32mimport\u001b[0m \u001b[0mOpResolverType\u001b[0m\u001b[0;34m\u001b[0m\u001b[0;34m\u001b[0m\u001b[0m\n",
            "\u001b[0;32m/usr/local/lib/python3.7/dist-packages/tensorflow/_api/v2/compat/v1/lite/experimental/authoring/__init__.py\u001b[0m in \u001b[0;36m<module>\u001b[0;34m()\u001b[0m\n\u001b[1;32m      6\u001b[0m \u001b[0;32mimport\u001b[0m \u001b[0msys\u001b[0m \u001b[0;32mas\u001b[0m \u001b[0m_sys\u001b[0m\u001b[0;34m\u001b[0m\u001b[0;34m\u001b[0m\u001b[0m\n\u001b[1;32m      7\u001b[0m \u001b[0;34m\u001b[0m\u001b[0m\n\u001b[0;32m----> 8\u001b[0;31m \u001b[0;32mfrom\u001b[0m \u001b[0mtensorflow\u001b[0m\u001b[0;34m.\u001b[0m\u001b[0mlite\u001b[0m\u001b[0;34m.\u001b[0m\u001b[0mpython\u001b[0m\u001b[0;34m.\u001b[0m\u001b[0mauthoring\u001b[0m\u001b[0;34m.\u001b[0m\u001b[0mauthoring\u001b[0m \u001b[0;32mimport\u001b[0m \u001b[0mcompatible\u001b[0m\u001b[0;34m\u001b[0m\u001b[0;34m\u001b[0m\u001b[0m\n\u001b[0m",
            "\u001b[0;32m/usr/local/lib/python3.7/dist-packages/tensorflow/lite/python/authoring/authoring.py\u001b[0m in \u001b[0;36m<module>\u001b[0;34m()\u001b[0m\n\u001b[1;32m     41\u001b[0m \u001b[0;34m\u001b[0m\u001b[0m\n\u001b[1;32m     42\u001b[0m \u001b[0;31m# pylint: disable=g-import-not-at-top\u001b[0m\u001b[0;34m\u001b[0m\u001b[0;34m\u001b[0m\u001b[0;34m\u001b[0m\u001b[0m\n\u001b[0;32m---> 43\u001b[0;31m \u001b[0;32mfrom\u001b[0m \u001b[0mtensorflow\u001b[0m\u001b[0;34m.\u001b[0m\u001b[0mlite\u001b[0m\u001b[0;34m.\u001b[0m\u001b[0mpython\u001b[0m \u001b[0;32mimport\u001b[0m \u001b[0mconvert\u001b[0m\u001b[0;34m\u001b[0m\u001b[0;34m\u001b[0m\u001b[0m\n\u001b[0m\u001b[1;32m     44\u001b[0m \u001b[0;32mfrom\u001b[0m \u001b[0mtensorflow\u001b[0m\u001b[0;34m.\u001b[0m\u001b[0mlite\u001b[0m\u001b[0;34m.\u001b[0m\u001b[0mpython\u001b[0m \u001b[0;32mimport\u001b[0m \u001b[0mlite\u001b[0m\u001b[0;34m\u001b[0m\u001b[0;34m\u001b[0m\u001b[0m\n\u001b[1;32m     45\u001b[0m \u001b[0;32mfrom\u001b[0m \u001b[0mtensorflow\u001b[0m\u001b[0;34m.\u001b[0m\u001b[0mlite\u001b[0m\u001b[0;34m.\u001b[0m\u001b[0mpython\u001b[0m\u001b[0;34m.\u001b[0m\u001b[0mmetrics\u001b[0m \u001b[0;32mimport\u001b[0m \u001b[0mconverter_error_data_pb2\u001b[0m\u001b[0;34m\u001b[0m\u001b[0;34m\u001b[0m\u001b[0m\n",
            "\u001b[0;32m/usr/local/lib/python3.7/dist-packages/tensorflow/lite/python/convert.py\u001b[0m in \u001b[0;36m<module>\u001b[0;34m()\u001b[0m\n\u001b[1;32m     27\u001b[0m \u001b[0;34m\u001b[0m\u001b[0m\n\u001b[1;32m     28\u001b[0m \u001b[0;32mfrom\u001b[0m \u001b[0mtensorflow\u001b[0m\u001b[0;34m.\u001b[0m\u001b[0mlite\u001b[0m\u001b[0;34m.\u001b[0m\u001b[0mpython\u001b[0m \u001b[0;32mimport\u001b[0m \u001b[0mlite_constants\u001b[0m\u001b[0;34m\u001b[0m\u001b[0;34m\u001b[0m\u001b[0m\n\u001b[0;32m---> 29\u001b[0;31m \u001b[0;32mfrom\u001b[0m \u001b[0mtensorflow\u001b[0m\u001b[0;34m.\u001b[0m\u001b[0mlite\u001b[0m\u001b[0;34m.\u001b[0m\u001b[0mpython\u001b[0m \u001b[0;32mimport\u001b[0m \u001b[0mutil\u001b[0m\u001b[0;34m\u001b[0m\u001b[0;34m\u001b[0m\u001b[0m\n\u001b[0m\u001b[1;32m     30\u001b[0m \u001b[0;32mfrom\u001b[0m \u001b[0mtensorflow\u001b[0m\u001b[0;34m.\u001b[0m\u001b[0mlite\u001b[0m\u001b[0;34m.\u001b[0m\u001b[0mpython\u001b[0m \u001b[0;32mimport\u001b[0m \u001b[0mwrap_toco\u001b[0m\u001b[0;34m\u001b[0m\u001b[0;34m\u001b[0m\u001b[0m\n\u001b[1;32m     31\u001b[0m \u001b[0;32mfrom\u001b[0m \u001b[0mtensorflow\u001b[0m\u001b[0;34m.\u001b[0m\u001b[0mlite\u001b[0m\u001b[0;34m.\u001b[0m\u001b[0mpython\u001b[0m\u001b[0;34m.\u001b[0m\u001b[0mconvert_phase\u001b[0m \u001b[0;32mimport\u001b[0m \u001b[0mComponent\u001b[0m\u001b[0;34m\u001b[0m\u001b[0;34m\u001b[0m\u001b[0m\n",
            "\u001b[0;32m/usr/local/lib/python3.7/dist-packages/tensorflow/lite/python/util.py\u001b[0m in \u001b[0;36m<module>\u001b[0;34m()\u001b[0m\n\u001b[1;32m     49\u001b[0m \u001b[0;31m# pylint: disable=unused-import\u001b[0m\u001b[0;34m\u001b[0m\u001b[0;34m\u001b[0m\u001b[0;34m\u001b[0m\u001b[0m\n\u001b[1;32m     50\u001b[0m \u001b[0;32mtry\u001b[0m\u001b[0;34m:\u001b[0m\u001b[0;34m\u001b[0m\u001b[0;34m\u001b[0m\u001b[0m\n\u001b[0;32m---> 51\u001b[0;31m   \u001b[0;32mfrom\u001b[0m \u001b[0mjax\u001b[0m \u001b[0;32mimport\u001b[0m \u001b[0mxla_computation\u001b[0m \u001b[0;32mas\u001b[0m \u001b[0m_xla_computation\u001b[0m\u001b[0;34m\u001b[0m\u001b[0;34m\u001b[0m\u001b[0m\n\u001b[0m\u001b[1;32m     52\u001b[0m \u001b[0;32mexcept\u001b[0m \u001b[0mImportError\u001b[0m\u001b[0;34m:\u001b[0m\u001b[0;34m\u001b[0m\u001b[0;34m\u001b[0m\u001b[0m\n\u001b[1;32m     53\u001b[0m   \u001b[0m_xla_computation\u001b[0m \u001b[0;34m=\u001b[0m \u001b[0;32mNone\u001b[0m\u001b[0;34m\u001b[0m\u001b[0;34m\u001b[0m\u001b[0m\n",
            "\u001b[0;32m/usr/local/lib/python3.7/dist-packages/jax/__init__.py\u001b[0m in \u001b[0;36m<module>\u001b[0;34m()\u001b[0m\n\u001b[1;32m     58\u001b[0m )\n\u001b[1;32m     59\u001b[0m \u001b[0;32mfrom\u001b[0m \u001b[0;34m.\u001b[0m\u001b[0mcore\u001b[0m \u001b[0;32mimport\u001b[0m \u001b[0meval_context\u001b[0m \u001b[0;32mas\u001b[0m \u001b[0mensure_compile_time_eval\u001b[0m\u001b[0;34m\u001b[0m\u001b[0;34m\u001b[0m\u001b[0m\n\u001b[0;32m---> 60\u001b[0;31m from jax._src.api import (\n\u001b[0m\u001b[1;32m     61\u001b[0m   \u001b[0mad\u001b[0m\u001b[0;34m,\u001b[0m  \u001b[0;31m# TODO(phawkins): update users to avoid this.\u001b[0m\u001b[0;34m\u001b[0m\u001b[0;34m\u001b[0m\u001b[0m\n\u001b[1;32m     62\u001b[0m   \u001b[0meffects_barrier\u001b[0m\u001b[0;34m,\u001b[0m\u001b[0;34m\u001b[0m\u001b[0;34m\u001b[0m\u001b[0m\n",
            "\u001b[0;32m/usr/local/lib/python3.7/dist-packages/jax/_src/api.py\u001b[0m in \u001b[0;36m<module>\u001b[0;34m()\u001b[0m\n\u001b[1;32m     46\u001b[0m \u001b[0;34m\u001b[0m\u001b[0m\n\u001b[1;32m     47\u001b[0m \u001b[0;32mfrom\u001b[0m \u001b[0mjax\u001b[0m\u001b[0;34m.\u001b[0m\u001b[0m_src\u001b[0m \u001b[0;32mimport\u001b[0m \u001b[0mdevice_array\u001b[0m\u001b[0;34m\u001b[0m\u001b[0;34m\u001b[0m\u001b[0m\n\u001b[0;32m---> 48\u001b[0;31m \u001b[0;32mfrom\u001b[0m \u001b[0mjax\u001b[0m\u001b[0;34m.\u001b[0m\u001b[0m_src\u001b[0m \u001b[0;32mimport\u001b[0m \u001b[0mdispatch\u001b[0m\u001b[0;34m\u001b[0m\u001b[0;34m\u001b[0m\u001b[0m\n\u001b[0m\u001b[1;32m     49\u001b[0m \u001b[0;32mfrom\u001b[0m \u001b[0mjax\u001b[0m\u001b[0;34m.\u001b[0m\u001b[0m_src\u001b[0m \u001b[0;32mimport\u001b[0m \u001b[0mdtypes\u001b[0m\u001b[0;34m\u001b[0m\u001b[0;34m\u001b[0m\u001b[0m\n\u001b[1;32m     50\u001b[0m \u001b[0;32mfrom\u001b[0m \u001b[0mjax\u001b[0m\u001b[0;34m.\u001b[0m\u001b[0m_src\u001b[0m \u001b[0;32mimport\u001b[0m \u001b[0msource_info_util\u001b[0m\u001b[0;34m\u001b[0m\u001b[0;34m\u001b[0m\u001b[0m\n",
            "\u001b[0;32m/usr/local/lib/python3.7/dist-packages/jax/_src/dispatch.py\u001b[0m in \u001b[0;36m<module>\u001b[0;34m()\u001b[0m\n\u001b[1;32m     54\u001b[0m \u001b[0;32mimport\u001b[0m \u001b[0mjax\u001b[0m\u001b[0;34m.\u001b[0m\u001b[0m_src\u001b[0m\u001b[0;34m.\u001b[0m\u001b[0mutil\u001b[0m \u001b[0;32mas\u001b[0m \u001b[0mutil\u001b[0m\u001b[0;34m\u001b[0m\u001b[0;34m\u001b[0m\u001b[0m\n\u001b[1;32m     55\u001b[0m \u001b[0;32mfrom\u001b[0m \u001b[0mjax\u001b[0m\u001b[0;34m.\u001b[0m\u001b[0m_src\u001b[0m\u001b[0;34m.\u001b[0m\u001b[0mutil\u001b[0m \u001b[0;32mimport\u001b[0m \u001b[0mflatten\u001b[0m\u001b[0;34m,\u001b[0m \u001b[0munflatten\u001b[0m\u001b[0;34m\u001b[0m\u001b[0;34m\u001b[0m\u001b[0m\n\u001b[0;32m---> 56\u001b[0;31m \u001b[0;32mfrom\u001b[0m \u001b[0metils\u001b[0m \u001b[0;32mimport\u001b[0m \u001b[0mepath\u001b[0m\u001b[0;34m\u001b[0m\u001b[0;34m\u001b[0m\u001b[0m\n\u001b[0m\u001b[1;32m     57\u001b[0m \u001b[0;34m\u001b[0m\u001b[0m\n\u001b[1;32m     58\u001b[0m \u001b[0mFLAGS\u001b[0m \u001b[0;34m=\u001b[0m \u001b[0mflags\u001b[0m\u001b[0;34m.\u001b[0m\u001b[0mFLAGS\u001b[0m\u001b[0;34m\u001b[0m\u001b[0;34m\u001b[0m\u001b[0m\n",
            "\u001b[0;32m/usr/local/lib/python3.7/dist-packages/etils/epath/__init__.py\u001b[0m in \u001b[0;36m<module>\u001b[0;34m()\u001b[0m\n\u001b[1;32m     20\u001b[0m \u001b[0;32mfrom\u001b[0m \u001b[0metils\u001b[0m\u001b[0;34m.\u001b[0m\u001b[0mepath\u001b[0m\u001b[0;34m.\u001b[0m\u001b[0mabstract_path\u001b[0m \u001b[0;32mimport\u001b[0m \u001b[0mPath\u001b[0m\u001b[0;34m\u001b[0m\u001b[0;34m\u001b[0m\u001b[0m\n\u001b[1;32m     21\u001b[0m \u001b[0;32mfrom\u001b[0m \u001b[0metils\u001b[0m\u001b[0;34m.\u001b[0m\u001b[0mepath\u001b[0m\u001b[0;34m.\u001b[0m\u001b[0mregister\u001b[0m \u001b[0;32mimport\u001b[0m \u001b[0mregister_path_cls\u001b[0m\u001b[0;34m\u001b[0m\u001b[0;34m\u001b[0m\u001b[0m\n\u001b[0;32m---> 22\u001b[0;31m \u001b[0;32mfrom\u001b[0m \u001b[0metils\u001b[0m\u001b[0;34m.\u001b[0m\u001b[0mepath\u001b[0m\u001b[0;34m.\u001b[0m\u001b[0mresource_utils\u001b[0m \u001b[0;32mimport\u001b[0m \u001b[0mresource_path\u001b[0m\u001b[0;34m\u001b[0m\u001b[0;34m\u001b[0m\u001b[0m\n\u001b[0m\u001b[1;32m     23\u001b[0m \u001b[0;32mfrom\u001b[0m \u001b[0metils\u001b[0m\u001b[0;34m.\u001b[0m\u001b[0mepath\u001b[0m\u001b[0;34m.\u001b[0m\u001b[0mresource_utils\u001b[0m \u001b[0;32mimport\u001b[0m \u001b[0mto_write_path\u001b[0m\u001b[0;34m\u001b[0m\u001b[0;34m\u001b[0m\u001b[0m\n\u001b[1;32m     24\u001b[0m \u001b[0;32mfrom\u001b[0m \u001b[0metils\u001b[0m\u001b[0;34m.\u001b[0m\u001b[0mepath\u001b[0m\u001b[0;34m.\u001b[0m\u001b[0mtyping\u001b[0m \u001b[0;32mimport\u001b[0m \u001b[0mPathLike\u001b[0m\u001b[0;34m\u001b[0m\u001b[0;34m\u001b[0m\u001b[0m\n",
            "\u001b[0;32m/usr/local/lib/python3.7/dist-packages/etils/epath/resource_utils.py\u001b[0m in \u001b[0;36m<module>\u001b[0;34m()\u001b[0m\n\u001b[1;32m     33\u001b[0m   \u001b[0;32mimport\u001b[0m \u001b[0mimportlib\u001b[0m\u001b[0;34m.\u001b[0m\u001b[0mresources\u001b[0m \u001b[0;32mas\u001b[0m \u001b[0mimportlib_resources\u001b[0m\u001b[0;34m\u001b[0m\u001b[0;34m\u001b[0m\u001b[0m\n\u001b[1;32m     34\u001b[0m \u001b[0;32melse\u001b[0m\u001b[0;34m:\u001b[0m\u001b[0;34m\u001b[0m\u001b[0;34m\u001b[0m\u001b[0m\n\u001b[0;32m---> 35\u001b[0;31m   \u001b[0;32mimport\u001b[0m \u001b[0mimportlib_resources\u001b[0m\u001b[0;34m\u001b[0m\u001b[0;34m\u001b[0m\u001b[0m\n\u001b[0m\u001b[1;32m     36\u001b[0m \u001b[0;34m\u001b[0m\u001b[0m\n\u001b[1;32m     37\u001b[0m \u001b[0;32mif\u001b[0m \u001b[0msys\u001b[0m\u001b[0;34m.\u001b[0m\u001b[0mversion_info\u001b[0m \u001b[0;34m>=\u001b[0m \u001b[0;34m(\u001b[0m\u001b[0;36m3\u001b[0m\u001b[0;34m,\u001b[0m \u001b[0;36m8\u001b[0m\u001b[0;34m)\u001b[0m\u001b[0;34m:\u001b[0m  \u001b[0;31m# `zipfiles.Path` was added in 3.8\u001b[0m\u001b[0;34m\u001b[0m\u001b[0;34m\u001b[0m\u001b[0m\n",
            "\u001b[0;32m/usr/lib/python3.7/importlib/_bootstrap.py\u001b[0m in \u001b[0;36m_find_and_load\u001b[0;34m(name, import_)\u001b[0m\n",
            "\u001b[0;32m/usr/lib/python3.7/importlib/_bootstrap.py\u001b[0m in \u001b[0;36m_find_and_load_unlocked\u001b[0;34m(name, import_)\u001b[0m\n",
            "\u001b[0;32m/usr/lib/python3.7/importlib/_bootstrap.py\u001b[0m in \u001b[0;36m_find_spec\u001b[0;34m(name, path, target)\u001b[0m\n",
            "\u001b[0;32m/usr/lib/python3.7/importlib/_bootstrap_external.py\u001b[0m in \u001b[0;36mfind_spec\u001b[0;34m(cls, fullname, path, target)\u001b[0m\n",
            "\u001b[0;32m/usr/lib/python3.7/importlib/_bootstrap_external.py\u001b[0m in \u001b[0;36m_get_spec\u001b[0;34m(cls, fullname, path, target)\u001b[0m\n",
            "\u001b[0;32m/usr/lib/python3.7/importlib/_bootstrap_external.py\u001b[0m in \u001b[0;36mfind_spec\u001b[0;34m(self, fullname, target)\u001b[0m\n",
            "\u001b[0;32m/usr/lib/python3.7/importlib/_bootstrap_external.py\u001b[0m in \u001b[0;36m_path_isfile\u001b[0;34m(path)\u001b[0m\n",
            "\u001b[0;32m/usr/lib/python3.7/importlib/_bootstrap_external.py\u001b[0m in \u001b[0;36m_path_is_mode_type\u001b[0;34m(path, mode)\u001b[0m\n",
            "\u001b[0;31mKeyboardInterrupt\u001b[0m: "
          ]
        }
      ],
      "source": [
        "import tensorflow as tf\n",
        "from tensorflow.keras import layers\n",
        "\n",
        "def cmu_resnet_block(input_layer, num_cnn=3, channel=64, block_num=1):\n",
        "  x = input_layer\n",
        "  for cnn_num in range(num_cnn):\n",
        "    if cnn_num==1:\n",
        "      x = layers.BatchNormalization()(x)\n",
        "      identity = x\n",
        "      identity = layers.Conv2D(x_channel, kernel_size=(1, 1), strides=(2, 2), padding=\"same\")(identity)\n",
        "      x = layers.Conv2D(filters=channel, kernel_size=(1,1),strides=(2,2), activation='elu', kernel_initializer='he_normal', padding='valid')(x)#,kernel_regularizer = tf.keras.regularizers.l2(0.0001)\n",
        "      x = layers.BatchNormalization()(x)\n",
        "      x = layers.Conv2D(filters=channel, kernel_size=(3,3), activation='elu', kernel_initializer='he_normal', padding='same')(x)#,kernel_regularizer = tf.keras.regularizers.l2(0.001\n",
        "      x = layers.BatchNormalization()(x)\n",
        "      x = layers.Conv2D(filters=channel, kernel_size=(1,1), activation='elu', kernel_initializer='he_normal', padding='valid')(x)#,kernel_regularizer = tf.keras.regularizers.l2(0.001\n",
        "\n",
        "\n",
        "    else:\n",
        "      identity = x\n",
        "      x = layers.BatchNormalization()(x)\n",
        "      x = layers.Conv2D(filters=channel, kernel_size=(1,1), activation='elu', kernel_initializer='he_normal', padding='valid')(x)#,kernel_regularizer = tf.keras.regularizers.l2(0.001\n",
        "      x = layers.BatchNormalization()(x)\n",
        "      x = layers.Conv2D(filters=channel, kernel_size=(3,3), activation='elu', kernel_initializer='he_normal', padding='same')(x)#,kernel_regularizer = tf.keras.regularizers.l2(0.001\n",
        "      x = layers.BatchNormalization()(x)\n",
        "      x = layers.Conv2D(filters=channel, kernel_size=(1,1), activation='elu', kernel_initializer='he_normal', padding='valid')(x)#,kernel_regularizer = tf.keras.regularizers.l2(0.001\n",
        "      \n",
        "    identity_channel = identity.shape.as_list()[-1]\n",
        "    x_channel = x.shape.as_list()[-1]\n",
        "    if  identity_channel != x_channel :\n",
        "      identity = layers.Conv2D(x_channel, kernel_size=(1, 1), strides=(1, 1), padding=\"same\")(identity)\n",
        "    x = layers.Add()([x,identity])\n",
        "\n",
        "  return x\n",
        "\n",
        "def cmu_build_resnet(input_shape=(101,101,1), num_cnn_list=[3,3,3,3,3], channel_list=[16,32,64,128,256]):\n",
        "  assert len(num_cnn_list) == len(channel_list)\n",
        "\n",
        "  input_layer = layers.Input(shape=input_shape)\n",
        "  output = input_layer\n",
        "  output = layers.Conv2D(filters=16, kernel_size=(7,7), kernel_initializer='he_normal', padding='same')(output)\n",
        "  output = layers.BatchNormalization()(output)\n",
        "\n",
        "  output = layers.MaxPooling2D(pool_size=(3,3))(output)\n",
        "\n",
        "  for i, (num_cnn, channel) in enumerate(zip(num_cnn_list, channel_list)):\n",
        "    output = cmu_resnet_block(output, num_cnn=num_cnn, channel=channel, block_num=i)\n",
        "\n",
        "  output = layers.AveragePooling2D(padding='same')(output)\n",
        "  output = layers.Flatten()(output)\n",
        "  output = layers.Dense(1, activation='sigmoid')(output)\n",
        "  \n",
        "  model = tf.keras.Model(inputs = input_layer, outputs=output)\n",
        "\n",
        "  return model"
      ]
    },
    {
      "cell_type": "code",
      "execution_count": 1,
      "metadata": {
        "id": "rNllRoxHZrF5",
        "colab": {
          "base_uri": "https://localhost:8080/"
        },
        "outputId": "0e742c85-ee91-41b7-af6c-432918f6076a"
      },
      "outputs": [
        {
          "output_type": "stream",
          "name": "stdout",
          "text": [
            "Mounted at /content/drive\n"
          ]
        }
      ],
      "source": [
        "from google.colab import drive\n",
        "drive.mount('/content/drive')"
      ]
    },
    {
      "cell_type": "code",
      "execution_count": 2,
      "metadata": {
        "id": "0d6PROD6aBrP",
        "colab": {
          "base_uri": "https://localhost:8080/"
        },
        "outputId": "bd9520a4-de7f-44a5-efc1-7221e48cd752"
      },
      "outputs": [
        {
          "output_type": "stream",
          "name": "stdout",
          "text": [
            "Looking in indexes: https://pypi.org/simple, https://us-python.pkg.dev/colab-wheels/public/simple/\n",
            "Collecting tensorflow-addons\n",
            "  Downloading tensorflow_addons-0.17.1-cp37-cp37m-manylinux_2_17_x86_64.manylinux2014_x86_64.whl (1.1 MB)\n",
            "\u001b[K     |████████████████████████████████| 1.1 MB 19.7 MB/s \n",
            "\u001b[?25hRequirement already satisfied: packaging in /usr/local/lib/python3.7/dist-packages (from tensorflow-addons) (21.3)\n",
            "Requirement already satisfied: typeguard>=2.7 in /usr/local/lib/python3.7/dist-packages (from tensorflow-addons) (2.7.1)\n",
            "Requirement already satisfied: pyparsing!=3.0.5,>=2.0.2 in /usr/local/lib/python3.7/dist-packages (from packaging->tensorflow-addons) (3.0.9)\n",
            "Installing collected packages: tensorflow-addons\n",
            "Successfully installed tensorflow-addons-0.17.1\n"
          ]
        }
      ],
      "source": [
        "!pip install tensorflow-addons"
      ]
    },
    {
      "cell_type": "code",
      "source": [
        "# memory footprint support libraries/code\n",
        "!ln -sf /opt/bin/nvidia-smi /usr/bin/nvidia-smi\n",
        "!pip install gputil\n",
        "!pip install psutil\n",
        "!pip install humanize\n",
        "import psutil\n",
        "import humanize\n",
        "import os\n",
        "import GPUtil as GPU\n",
        "GPUs = GPU.getGPUs()\n",
        "# XXX: only one GPU on Colab and isn’t guaranteed\n",
        "gpu = GPUs[0]\n",
        "def printm():\n",
        " process = psutil.Process(os.getpid())\n",
        " print(\"Gen RAM Free: \" + humanize.naturalsize( psutil.virtual_memory().available ), \" | Proc size: \" + humanize.naturalsize( process.memory_info().rss))\n",
        " print(\"GPU RAM Free: {0:.0f}MB | Used: {1:.0f}MB | Util {2:3.0f}% | Total {3:.0f}MB\".format(gpu.memoryFree, gpu.memoryUsed, gpu.memoryUtil*100, gpu.memoryTotal))\n",
        "printm()"
      ],
      "metadata": {
        "id": "ays6mzznVnfP",
        "colab": {
          "base_uri": "https://localhost:8080/"
        },
        "outputId": "217445d8-5147-46ed-dc99-2558252935a8"
      },
      "execution_count": 1,
      "outputs": [
        {
          "output_type": "stream",
          "name": "stdout",
          "text": [
            "Looking in indexes: https://pypi.org/simple, https://us-python.pkg.dev/colab-wheels/public/simple/\n",
            "Requirement already satisfied: gputil in /usr/local/lib/python3.7/dist-packages (1.4.0)\n",
            "Looking in indexes: https://pypi.org/simple, https://us-python.pkg.dev/colab-wheels/public/simple/\n",
            "Requirement already satisfied: psutil in /usr/local/lib/python3.7/dist-packages (5.4.8)\n",
            "Looking in indexes: https://pypi.org/simple, https://us-python.pkg.dev/colab-wheels/public/simple/\n",
            "Requirement already satisfied: humanize in /usr/local/lib/python3.7/dist-packages (0.5.1)\n",
            "Gen RAM Free: 12.6 GB  | Proc size: 94.4 MB\n",
            "GPU RAM Free: 15109MB | Used: 0MB | Util   0% | Total 15109MB\n"
          ]
        }
      ]
    },
    {
      "cell_type": "code",
      "execution_count": 2,
      "metadata": {
        "id": "nAFUELC7Zyh8"
      },
      "outputs": [],
      "source": [
        "from astropy.table import Table\n",
        "\n",
        "d = Table.read('/content/drive/MyDrive/catalogs.hdf5')\n"
      ]
    },
    {
      "cell_type": "code",
      "source": [
        "# 0. 필요한 함수 import\n",
        "import os\n",
        "from glob import glob\n",
        "import tensorflow as tf\n",
        "import numpy as np\n",
        "import matplotlib.pyplot as plt\n",
        "from tensorflow.keras.preprocessing.image import ImageDataGenerator\n",
        "import random \n",
        "#datagenerator 생성\n",
        "datagenerator = ImageDataGenerator(\n",
        "                                    rotation_range = 120,\n",
        "                                    vertical_flip =True,\n",
        "                                    horizontal_flip = True)\n",
        "\n",
        "def generateing(x,y):\n",
        "  x0 = np.array(x)\n",
        "  y0 = np.array(y)\n",
        "  p = datagenerator.flow(x0,y0,batch_size=len(x))\n",
        "\n",
        "  return p\n",
        "\n",
        "def data_shuffle(x,y):\n",
        "  xt = []\n",
        "  yt = []\n",
        "  entire = list(zip(x,y))\n",
        "  random.shuffle(entire)\n",
        "\n",
        "  for i in range(len(x)):\n",
        "    xt.append(entire[i][0])\n",
        "    yt.append(entire[i][1])\n",
        "  x = np.asarray(xt).astype(np.float32)\n",
        "  y = np.asarray(yt).astype(np.float32)\n",
        "  \n",
        "  return x,y\n",
        "\n",
        "random.seed(0)\n",
        "\n",
        "x =  np.array(d['image'][:16000]).reshape((-1, 101, 101, 1))\n",
        "y = np.array(d['is_lens'][:16000]).reshape((-1, 1))\n",
        "\n",
        "x_test = np.array(d['image'][16000:]).reshape((-1, 101, 101, 1))\n",
        "y_test = np.array(d['is_lens'][16000:]).reshape((-1, 1))\n",
        "\n",
        "x0 = []\n",
        "x1 = []\n",
        "\n",
        "for i in range(len(x)):\n",
        "  if y[i]==0:\n",
        "    x0.append(x[i])\n",
        "  elif y[i]==1:\n",
        "    x1.append(x[i])\n",
        "\n",
        "y0 = [0]*len(x0)\n",
        "\n",
        "x = list(x)\n",
        "y = list(y)\n",
        "\n",
        "im,lb = generateing(x0,y0).next()\n",
        "\n",
        "\n",
        "for i in range(len(im)):\n",
        "  x0.append(im[i])\n",
        "  y0.append(lb[i])\n",
        "\n",
        "x1 = x1[:len(x0)]\n",
        "y1 = [1]*len(x0)\n",
        "\n",
        "x = x0+x1\n",
        "y = y0+y1\n",
        "x,y = data_shuffle(x,y)\n",
        "\n",
        "print(x.shape)"
      ],
      "metadata": {
        "id": "7qB0-_JkWP0V",
        "colab": {
          "base_uri": "https://localhost:8080/"
        },
        "outputId": "f99a3290-3421-4862-be8a-1de86f365b65"
      },
      "execution_count": 3,
      "outputs": [
        {
          "output_type": "stream",
          "name": "stdout",
          "text": [
            "(19336, 101, 101, 1)\n"
          ]
        }
      ]
    },
    {
      "cell_type": "code",
      "execution_count": 4,
      "metadata": {
        "id": "gfBrr5-wZ7Ze",
        "colab": {
          "base_uri": "https://localhost:8080/"
        },
        "outputId": "225b25cb-aece-4124-aca1-5d283580c22b"
      },
      "outputs": [
        {
          "output_type": "execute_result",
          "data": {
            "text/plain": [
              "(19336, 101, 101, 1)"
            ]
          },
          "metadata": {},
          "execution_count": 4
        }
      ],
      "source": [
        "vmin = -1e-9\n",
        "vmax = 1e-9\n",
        "scale = 100\n",
        "\n",
        "mask = np.where(x == 100)\n",
        "mask_test = np.where(x_test == 100)\n",
        "\n",
        "x[mask] = 0\n",
        "x_test[mask_test] = 0\n",
        "\n",
        "x = np.clip(x, vmin, vmax)/vmax * scale\n",
        "x_test = np.clip(x_test, vmin, vmax)/vmax * scale\n",
        "\n",
        "x[mask] = 0\n",
        "x_test[mask_test] = 0\n",
        "\n",
        "x.shape"
      ]
    },
    {
      "cell_type": "code",
      "source": [
        "import tensorflow as tf\n",
        "from tensorflow.keras import layers\n",
        "\n",
        "def resnet_block_small(input_layer, num_cnn=3, channel=64, block_num=1):\n",
        "  x = input_layer\n",
        "  for cnn_num in range(num_cnn):\n",
        "    identity = x\n",
        "    x = layers.Conv2D(filters=channel, kernel_size=(3,3), activation='elu', kernel_initializer='he_normal', padding='same')(x)#,kernel_regularizer = tf.keras.regularizers.l2(0.001)\n",
        "    x = layers.BatchNormalization()(x)\n",
        "\n",
        "    # identity_channel = identity.shape.as_list()[-1]\n",
        "    # x_channel = x.shape.as_list()[-1]\n",
        "    # if  identity_channel != x_channel :\n",
        "    #   identity = layers.Conv2D(x_channel, kernel_size=(1, 1), strides=(1, 1), padding=\"same\")(identity)\n",
        "    # x = layers.Add()([x,identity])\n",
        "\n",
        "  x = layers.MaxPooling2D(pool_size=(2,2))(x)\n",
        "\n",
        "  return x\n",
        "\n",
        "def build_resnet_small(input_shape=(101,101,1), num_cnn_list=[3,3,3,3], channel_list=[32,64,128,256,512], num_classes=2):\n",
        "  assert len(num_cnn_list) == len(channel_list)\n",
        "\n",
        "  input_layer = layers.Input(shape=input_shape)\n",
        "  output = input_layer\n",
        "  output = layers.Conv2D(filters=16, kernel_size=(7,7), kernel_initializer='he_normal', padding='same')(output)\n",
        "  output = layers.BatchNormalization()(output)\n",
        "\n",
        "  output = layers.MaxPooling2D(pool_size=(3,3))(output)\n",
        "\n",
        "  for i, (num_cnn, channel) in enumerate(zip(num_cnn_list, channel_list)):\n",
        "    output = resnet_block_small(output, num_cnn=num_cnn, channel=channel, block_num=i)\n",
        "\n",
        "  output = layers.AveragePooling2D(padding='same')(output)\n",
        "  output = layers.Flatten()(output)\n",
        "  # output = layers.Dropout(0.5)(output)\n",
        "  # output = layers.Dense(256, activation='elu')(output)\n",
        "  # output = layers.BatchNormalization()(output)\n",
        "  # output = layers.Dense(64, activation='elu')(output)\n",
        "  # output = layers.BatchNormalization()(output)\n",
        "  output = layers.Dense(1, activation='sigmoid')(output)\n",
        "  \n",
        "  model = tf.keras.Model(inputs = input_layer, outputs=output)\n",
        "  return model"
      ],
      "metadata": {
        "id": "6ntfCV4wOPF1"
      },
      "execution_count": 5,
      "outputs": []
    },
    {
      "cell_type": "code",
      "execution_count": 6,
      "metadata": {
        "id": "Ae6y_wZyaF-e",
        "colab": {
          "base_uri": "https://localhost:8080/"
        },
        "outputId": "d4a74a90-d282-4758-8865-e8c74e6232a9"
      },
      "outputs": [
        {
          "output_type": "stream",
          "name": "stdout",
          "text": [
            "Model: \"model\"\n",
            "_________________________________________________________________\n",
            " Layer (type)                Output Shape              Param #   \n",
            "=================================================================\n",
            " input_1 (InputLayer)        [(None, 101, 101, 1)]     0         \n",
            "                                                                 \n",
            " conv2d (Conv2D)             (None, 101, 101, 16)      800       \n",
            "                                                                 \n",
            " batch_normalization (BatchN  (None, 101, 101, 16)     64        \n",
            " ormalization)                                                   \n",
            "                                                                 \n",
            " max_pooling2d (MaxPooling2D  (None, 33, 33, 16)       0         \n",
            " )                                                               \n",
            "                                                                 \n",
            " conv2d_1 (Conv2D)           (None, 33, 33, 4)         580       \n",
            "                                                                 \n",
            " batch_normalization_1 (Batc  (None, 33, 33, 4)        16        \n",
            " hNormalization)                                                 \n",
            "                                                                 \n",
            " max_pooling2d_1 (MaxPooling  (None, 16, 16, 4)        0         \n",
            " 2D)                                                             \n",
            "                                                                 \n",
            " conv2d_2 (Conv2D)           (None, 16, 16, 8)         296       \n",
            "                                                                 \n",
            " batch_normalization_2 (Batc  (None, 16, 16, 8)        32        \n",
            " hNormalization)                                                 \n",
            "                                                                 \n",
            " conv2d_3 (Conv2D)           (None, 16, 16, 8)         584       \n",
            "                                                                 \n",
            " batch_normalization_3 (Batc  (None, 16, 16, 8)        32        \n",
            " hNormalization)                                                 \n",
            "                                                                 \n",
            " max_pooling2d_2 (MaxPooling  (None, 8, 8, 8)          0         \n",
            " 2D)                                                             \n",
            "                                                                 \n",
            " conv2d_4 (Conv2D)           (None, 8, 8, 16)          1168      \n",
            "                                                                 \n",
            " batch_normalization_4 (Batc  (None, 8, 8, 16)         64        \n",
            " hNormalization)                                                 \n",
            "                                                                 \n",
            " conv2d_5 (Conv2D)           (None, 8, 8, 16)          2320      \n",
            "                                                                 \n",
            " batch_normalization_5 (Batc  (None, 8, 8, 16)         64        \n",
            " hNormalization)                                                 \n",
            "                                                                 \n",
            " conv2d_6 (Conv2D)           (None, 8, 8, 16)          2320      \n",
            "                                                                 \n",
            " batch_normalization_6 (Batc  (None, 8, 8, 16)         64        \n",
            " hNormalization)                                                 \n",
            "                                                                 \n",
            " max_pooling2d_3 (MaxPooling  (None, 4, 4, 16)         0         \n",
            " 2D)                                                             \n",
            "                                                                 \n",
            " conv2d_7 (Conv2D)           (None, 4, 4, 32)          4640      \n",
            "                                                                 \n",
            " batch_normalization_7 (Batc  (None, 4, 4, 32)         128       \n",
            " hNormalization)                                                 \n",
            "                                                                 \n",
            " max_pooling2d_4 (MaxPooling  (None, 2, 2, 32)         0         \n",
            " 2D)                                                             \n",
            "                                                                 \n",
            " average_pooling2d (AverageP  (None, 1, 1, 32)         0         \n",
            " ooling2D)                                                       \n",
            "                                                                 \n",
            " flatten (Flatten)           (None, 32)                0         \n",
            "                                                                 \n",
            " dense (Dense)               (None, 1)                 33        \n",
            "                                                                 \n",
            "=================================================================\n",
            "Total params: 13,205\n",
            "Trainable params: 12,973\n",
            "Non-trainable params: 232\n",
            "_________________________________________________________________\n"
          ]
        }
      ],
      "source": [
        "import tensorflow_addons as tfa\n",
        "\n",
        "# model = build_resnet_small(num_cnn_list=[1,2,3,1], channel_list=[4,8,16,32]) \n",
        "model = build_resnet_small(num_cnn_list=[1,2,3,1], channel_list=[4,8,16,32]) \n",
        "wd = lambda: 1e-3\n",
        "\n",
        "first_decay_steps = 1000\n",
        "initial_learning_rate = 0.01\n",
        "\n",
        "optimizer = tfa.optimizers.AdamW(weight_decay = wd) \n",
        "\n",
        "model.compile(optimizer ='Adam', loss=tf.keras.losses.BinaryCrossentropy(from_logits=False), metrics=['accuracy'])\n",
        "model.summary()"
      ]
    },
    {
      "cell_type": "code",
      "execution_count": 37,
      "metadata": {
        "id": "Q4VDoJzImlQr",
        "colab": {
          "base_uri": "https://localhost:8080/"
        },
        "outputId": "c230d931-cbed-4162-d2a1-fbf148cec973"
      },
      "outputs": [
        {
          "output_type": "stream",
          "name": "stdout",
          "text": [
            "(19336, 101, 101, 1)\n"
          ]
        },
        {
          "output_type": "execute_result",
          "data": {
            "text/plain": [
              "(19336,)"
            ]
          },
          "metadata": {},
          "execution_count": 37
        }
      ],
      "source": [
        "print(x.shape)\n",
        "y.shape"
      ]
    },
    {
      "cell_type": "code",
      "execution_count": 7,
      "metadata": {
        "id": "mb63tSwaaJjK",
        "colab": {
          "base_uri": "https://localhost:8080/"
        },
        "outputId": "9999adce-a2d7-46f4-fe03-f039f1f19634"
      },
      "outputs": [
        {
          "output_type": "stream",
          "name": "stdout",
          "text": [
            "WARNING:tensorflow:`period` argument is deprecated. Please use `save_freq` to specify the frequency in number of batches seen.\n",
            "Epoch 1/20\n",
            "484/484 [==============================] - ETA: 0s - loss: 0.0752 - accuracy: 0.9827\n",
            "Epoch 1: saving model to /content/drive/MyDrive/weight(1231)/model_1.ckpt\n",
            "484/484 [==============================] - 12s 12ms/step - loss: 0.0752 - accuracy: 0.9827 - val_loss: 2.8297 - val_accuracy: 0.5049\n",
            "Epoch 2/20\n",
            "481/484 [============================>.] - ETA: 0s - loss: 0.0566 - accuracy: 0.9886\n",
            "Epoch 2: saving model to /content/drive/MyDrive/weight(1231)/model_2.ckpt\n",
            "484/484 [==============================] - 5s 10ms/step - loss: 0.0565 - accuracy: 0.9886 - val_loss: 0.6704 - val_accuracy: 0.5049\n",
            "Epoch 3/20\n",
            "483/484 [============================>.] - ETA: 0s - loss: 0.0538 - accuracy: 0.9889\n",
            "Epoch 3: saving model to /content/drive/MyDrive/weight(1231)/model_3.ckpt\n",
            "484/484 [==============================] - 5s 10ms/step - loss: 0.0538 - accuracy: 0.9889 - val_loss: 0.4717 - val_accuracy: 0.9413\n",
            "Epoch 4/20\n",
            "482/484 [============================>.] - ETA: 0s - loss: 0.0552 - accuracy: 0.9889\n",
            "Epoch 4: saving model to /content/drive/MyDrive/weight(1231)/model_4.ckpt\n",
            "484/484 [==============================] - 5s 10ms/step - loss: 0.0558 - accuracy: 0.9888 - val_loss: 4.4168 - val_accuracy: 0.5049\n",
            "Epoch 5/20\n",
            "480/484 [============================>.] - ETA: 0s - loss: 0.0521 - accuracy: 0.9896\n",
            "Epoch 5: saving model to /content/drive/MyDrive/weight(1231)/model_5.ckpt\n",
            "484/484 [==============================] - 5s 9ms/step - loss: 0.0521 - accuracy: 0.9897 - val_loss: 4.1184 - val_accuracy: 0.5049\n",
            "Epoch 6/20\n",
            "478/484 [============================>.] - ETA: 0s - loss: 0.0528 - accuracy: 0.9895\n",
            "Epoch 6: saving model to /content/drive/MyDrive/weight(1231)/model_6.ckpt\n",
            "484/484 [==============================] - 5s 9ms/step - loss: 0.0526 - accuracy: 0.9896 - val_loss: 0.3031 - val_accuracy: 0.9749\n",
            "Epoch 7/20\n",
            "482/484 [============================>.] - ETA: 0s - loss: 0.0518 - accuracy: 0.9896\n",
            "Epoch 7: saving model to /content/drive/MyDrive/weight(1231)/model_7.ckpt\n",
            "484/484 [==============================] - 5s 10ms/step - loss: 0.0519 - accuracy: 0.9895 - val_loss: 0.0702 - val_accuracy: 0.9860\n",
            "Epoch 8/20\n",
            "481/484 [============================>.] - ETA: 0s - loss: 0.0509 - accuracy: 0.9898\n",
            "Epoch 8: saving model to /content/drive/MyDrive/weight(1231)/model_8.ckpt\n",
            "484/484 [==============================] - 5s 10ms/step - loss: 0.0512 - accuracy: 0.9897 - val_loss: 0.3332 - val_accuracy: 0.9380\n",
            "Epoch 9/20\n",
            "481/484 [============================>.] - ETA: 0s - loss: 0.0516 - accuracy: 0.9897\n",
            "Epoch 9: saving model to /content/drive/MyDrive/weight(1231)/model_9.ckpt\n",
            "484/484 [==============================] - 5s 11ms/step - loss: 0.0516 - accuracy: 0.9897 - val_loss: 0.1270 - val_accuracy: 0.9842\n",
            "Epoch 10/20\n",
            "481/484 [============================>.] - ETA: 0s - loss: 0.0509 - accuracy: 0.9897\n",
            "Epoch 10: saving model to /content/drive/MyDrive/weight(1231)/model_10.ckpt\n",
            "484/484 [==============================] - 5s 10ms/step - loss: 0.0507 - accuracy: 0.9897 - val_loss: 0.1676 - val_accuracy: 0.9842\n",
            "Epoch 11/20\n",
            "482/484 [============================>.] - ETA: 0s - loss: 0.0493 - accuracy: 0.9901\n",
            "Epoch 11: saving model to /content/drive/MyDrive/weight(1231)/model_11.ckpt\n",
            "484/484 [==============================] - 5s 10ms/step - loss: 0.0492 - accuracy: 0.9901 - val_loss: 0.1086 - val_accuracy: 0.9876\n",
            "Epoch 12/20\n",
            "484/484 [==============================] - ETA: 0s - loss: 0.0501 - accuracy: 0.9901\n",
            "Epoch 12: saving model to /content/drive/MyDrive/weight(1231)/model_12.ckpt\n",
            "484/484 [==============================] - 5s 10ms/step - loss: 0.0501 - accuracy: 0.9901 - val_loss: 0.6528 - val_accuracy: 0.9607\n",
            "Epoch 13/20\n",
            "483/484 [============================>.] - ETA: 0s - loss: 0.0504 - accuracy: 0.9899\n",
            "Epoch 13: saving model to /content/drive/MyDrive/weight(1231)/model_13.ckpt\n",
            "484/484 [==============================] - 5s 10ms/step - loss: 0.0504 - accuracy: 0.9899 - val_loss: 0.4826 - val_accuracy: 0.9641\n",
            "Epoch 14/20\n",
            "481/484 [============================>.] - ETA: 0s - loss: 0.0501 - accuracy: 0.9900\n",
            "Epoch 14: saving model to /content/drive/MyDrive/weight(1231)/model_14.ckpt\n",
            "484/484 [==============================] - 5s 11ms/step - loss: 0.0499 - accuracy: 0.9900 - val_loss: 0.1204 - val_accuracy: 0.9847\n",
            "Epoch 15/20\n",
            "483/484 [============================>.] - ETA: 0s - loss: 0.0496 - accuracy: 0.9900\n",
            "Epoch 15: saving model to /content/drive/MyDrive/weight(1231)/model_15.ckpt\n",
            "484/484 [==============================] - 5s 10ms/step - loss: 0.0496 - accuracy: 0.9900 - val_loss: 0.2695 - val_accuracy: 0.9886\n",
            "Epoch 16/20\n",
            "482/484 [============================>.] - ETA: 0s - loss: 0.0497 - accuracy: 0.9900\n",
            "Epoch 16: saving model to /content/drive/MyDrive/weight(1231)/model_16.ckpt\n",
            "484/484 [==============================] - 5s 9ms/step - loss: 0.0496 - accuracy: 0.9900 - val_loss: 0.1259 - val_accuracy: 0.9842\n",
            "Epoch 17/20\n",
            "482/484 [============================>.] - ETA: 0s - loss: 0.0501 - accuracy: 0.9898\n",
            "Epoch 17: saving model to /content/drive/MyDrive/weight(1231)/model_17.ckpt\n",
            "484/484 [==============================] - 5s 10ms/step - loss: 0.0502 - accuracy: 0.9898 - val_loss: 0.1836 - val_accuracy: 0.9801\n",
            "Epoch 18/20\n",
            "478/484 [============================>.] - ETA: 0s - loss: 0.0499 - accuracy: 0.9899\n",
            "Epoch 18: saving model to /content/drive/MyDrive/weight(1231)/model_18.ckpt\n",
            "484/484 [==============================] - 5s 10ms/step - loss: 0.0497 - accuracy: 0.9900 - val_loss: 0.0584 - val_accuracy: 0.9876\n",
            "Epoch 19/20\n",
            "482/484 [============================>.] - ETA: 0s - loss: 0.0477 - accuracy: 0.9903\n",
            "Epoch 19: saving model to /content/drive/MyDrive/weight(1231)/model_19.ckpt\n",
            "484/484 [==============================] - 5s 10ms/step - loss: 0.0479 - accuracy: 0.9902 - val_loss: 1.6756 - val_accuracy: 0.5049\n",
            "Epoch 20/20\n",
            "482/484 [============================>.] - ETA: 0s - loss: 0.0485 - accuracy: 0.9904\n",
            "Epoch 20: saving model to /content/drive/MyDrive/weight(1231)/model_20.ckpt\n",
            "484/484 [==============================] - 5s 10ms/step - loss: 0.0484 - accuracy: 0.9904 - val_loss: 0.0956 - val_accuracy: 0.9899\n"
          ]
        }
      ],
      "source": [
        "period = 1\n",
        "cp_callback = tf.keras.callbacks.ModelCheckpoint(filepath='/content/drive/MyDrive/weight(1231)/model_{epoch}.ckpt', save_weights_only=True, verbose=1, period=period)\n",
        "hist = model.fit(x, y, epochs=20,validation_data=(x_test, y_test), validation_split=0.2 , callbacks=[cp_callback]) "
      ]
    },
    {
      "cell_type": "code",
      "execution_count": 9,
      "metadata": {
        "id": "JY7RsAiKaKpC",
        "colab": {
          "base_uri": "https://localhost:8080/"
        },
        "outputId": "1ed70616-4477-43b6-e9a7-d6e11d34bade"
      },
      "outputs": [
        {
          "output_type": "stream",
          "name": "stdout",
          "text": [
            "125/125 [==============================] - 1s 4ms/step - loss: 0.0701 - accuracy: 0.9875\n"
          ]
        },
        {
          "output_type": "execute_result",
          "data": {
            "text/plain": [
              "[0.07014541327953339, 0.987500011920929]"
            ]
          },
          "metadata": {},
          "execution_count": 9
        }
      ],
      "source": [
        "model.evaluate(x_test, y_test)"
      ]
    },
    {
      "cell_type": "code",
      "source": [
        "file = open(\"/content/drive/MyDrive/history(1231).txt\", \"w\")\n",
        "file.write(str(model.get_weights()))\n",
        "file.close()"
      ],
      "metadata": {
        "id": "YKo_bfAkjSvk"
      },
      "execution_count": 35,
      "outputs": []
    },
    {
      "cell_type": "code",
      "source": [
        "import matplotlib.pyplot as plt\n",
        "def plot_accuracy(history):\n",
        "  \n",
        "\n",
        "  plt.plot(history.history[\"accuracy\"],label='train accuracy')\n",
        "  plt.plot(history.history[\"val_accuracy\"],label='test accuracy')\n",
        "  plt.xticks(np.arange(0, 20, 1))\n",
        "  plt.ylabel(\"Accuracy\")\n",
        "  # plt.legend(loc = \"upper right\")\n",
        "  plt.title(\"Accuracy eval\")\n",
        "def plot_loss(history):\n",
        "  plt.plot(history.history['loss'])\n",
        "  plt.plot(history.history['val_loss'])\n",
        "  plt.title('Loss vs. epochs')\n",
        "  plt.ylabel('Loss')\n",
        "  plt.xticks(np.arange(0, 20, 1))\n",
        "  plt.ylim(0,3)\n",
        "  plt.xlabel('Epoch')\n",
        "  plt.legend(['Training', 'Validation'], loc='upper right')\n",
        "  plt.show()\n",
        "\n",
        "\n",
        "plot_loss(hist)\n",
        "plot_accuracy(hist)"
      ],
      "metadata": {
        "id": "1Cbw_NycHIVg",
        "colab": {
          "base_uri": "https://localhost:8080/",
          "height": 559
        },
        "outputId": "a64f2240-7830-406d-8f80-a5f2e0f961ed"
      },
      "execution_count": 8,
      "outputs": [
        {
          "output_type": "display_data",
          "data": {
            "text/plain": [
              "<Figure size 432x288 with 1 Axes>"
            ],
            "image/png": "[encoded data removed]"
          },
          "metadata": {
            "needs_background": "light"
          }
        },
        {
          "output_type": "display_data",
          "data": {
            "text/plain": [
              "<Figure size 432x288 with 1 Axes>"
            ],
            "image/png": "[encoded data removed]"
          },
          "metadata": {
            "needs_background": "light"
          }
        }
      ]
    },
    {
      "cell_type": "code",
      "source": [
        "# 1. 체크포인트들이 있는 폴더 선택\n",
        "checkPoint_dir = os.path.dirname(\"/content/drive/MyDrive/Untitled Folder/model_{epoch}.ckpt\")\n",
        "\n",
        "# 2. 해당 폴더에서 가장 마지막 체크포인트 선택\n",
        "latest = tf.train.latest_checkpoint(checkPoint_dir)\n",
        "\n",
        "# 3. 해당체크포인트에 저장한 모델의 가중치 불러오기\n",
        "model.load_weights(latest)\n"
      ],
      "metadata": {
        "colab": {
          "base_uri": "https://localhost:8080/",
          "height": 357
        },
        "id": "KQoHRqbGUj8C",
        "outputId": "2ed5cc7f-2442-4d98-8145-1f73503ca3b7"
      },
      "execution_count": null,
      "outputs": [
        {
          "output_type": "error",
          "ename": "AttributeError",
          "evalue": "ignored",
          "traceback": [
            "\u001b[0;31m---------------------------------------------------------------------------\u001b[0m",
            "\u001b[0;31mAttributeError\u001b[0m                            Traceback (most recent call last)",
            "\u001b[0;32m<ipython-input-15-c71049f68a6b>\u001b[0m in \u001b[0;36m<module>\u001b[0;34m()\u001b[0m\n\u001b[1;32m      6\u001b[0m \u001b[0;34m\u001b[0m\u001b[0m\n\u001b[1;32m      7\u001b[0m \u001b[0;31m# 3. 해당체크포인트에 저장한 모델의 가중치 불러오기\u001b[0m\u001b[0;34m\u001b[0m\u001b[0;34m\u001b[0m\u001b[0;34m\u001b[0m\u001b[0m\n\u001b[0;32m----> 8\u001b[0;31m \u001b[0mmodel\u001b[0m\u001b[0;34m.\u001b[0m\u001b[0mload_weights\u001b[0m\u001b[0;34m(\u001b[0m\u001b[0mlatest\u001b[0m\u001b[0;34m)\u001b[0m\u001b[0;34m\u001b[0m\u001b[0;34m\u001b[0m\u001b[0m\n\u001b[0m",
            "\u001b[0;32m/usr/local/lib/python3.7/dist-packages/keras/utils/traceback_utils.py\u001b[0m in \u001b[0;36merror_handler\u001b[0;34m(*args, **kwargs)\u001b[0m\n\u001b[1;32m     65\u001b[0m     \u001b[0;32mexcept\u001b[0m \u001b[0mException\u001b[0m \u001b[0;32mas\u001b[0m \u001b[0me\u001b[0m\u001b[0;34m:\u001b[0m  \u001b[0;31m# pylint: disable=broad-except\u001b[0m\u001b[0;34m\u001b[0m\u001b[0;34m\u001b[0m\u001b[0m\n\u001b[1;32m     66\u001b[0m       \u001b[0mfiltered_tb\u001b[0m \u001b[0;34m=\u001b[0m \u001b[0m_process_traceback_frames\u001b[0m\u001b[0;34m(\u001b[0m\u001b[0me\u001b[0m\u001b[0;34m.\u001b[0m\u001b[0m__traceback__\u001b[0m\u001b[0;34m)\u001b[0m\u001b[0;34m\u001b[0m\u001b[0;34m\u001b[0m\u001b[0m\n\u001b[0;32m---> 67\u001b[0;31m       \u001b[0;32mraise\u001b[0m \u001b[0me\u001b[0m\u001b[0;34m.\u001b[0m\u001b[0mwith_traceback\u001b[0m\u001b[0;34m(\u001b[0m\u001b[0mfiltered_tb\u001b[0m\u001b[0;34m)\u001b[0m \u001b[0;32mfrom\u001b[0m \u001b[0;32mNone\u001b[0m\u001b[0;34m\u001b[0m\u001b[0;34m\u001b[0m\u001b[0m\n\u001b[0m\u001b[1;32m     68\u001b[0m     \u001b[0;32mfinally\u001b[0m\u001b[0;34m:\u001b[0m\u001b[0;34m\u001b[0m\u001b[0;34m\u001b[0m\u001b[0m\n\u001b[1;32m     69\u001b[0m       \u001b[0;32mdel\u001b[0m \u001b[0mfiltered_tb\u001b[0m\u001b[0;34m\u001b[0m\u001b[0;34m\u001b[0m\u001b[0m\n",
            "\u001b[0;32m/usr/local/lib/python3.7/dist-packages/keras/saving/saving_utils.py\u001b[0m in \u001b[0;36mis_hdf5_filepath\u001b[0;34m(filepath)\u001b[0m\n\u001b[1;32m    333\u001b[0m \u001b[0;34m\u001b[0m\u001b[0m\n\u001b[1;32m    334\u001b[0m \u001b[0;32mdef\u001b[0m \u001b[0mis_hdf5_filepath\u001b[0m\u001b[0;34m(\u001b[0m\u001b[0mfilepath\u001b[0m\u001b[0;34m)\u001b[0m\u001b[0;34m:\u001b[0m\u001b[0;34m\u001b[0m\u001b[0;34m\u001b[0m\u001b[0m\n\u001b[0;32m--> 335\u001b[0;31m   return (filepath.endswith('.h5') or filepath.endswith('.keras') or\n\u001b[0m\u001b[1;32m    336\u001b[0m           filepath.endswith('.hdf5'))\n",
            "\u001b[0;31mAttributeError\u001b[0m: 'NoneType' object has no attribute 'endswith'"
          ]
        }
      ]
    },
    {
      "cell_type": "code",
      "source": [
        "model.compile(optimizer ='Adam', loss='binary_crossentropy', metrics=['accuracy'])\n",
        "model.evaluate(x_test, y_test)"
      ],
      "metadata": {
        "colab": {
          "base_uri": "https://localhost:8080/"
        },
        "id": "GC6ZlWj5XhAy",
        "outputId": "01545453-be47-42c6-e489-41809a9cb5e9"
      },
      "execution_count": null,
      "outputs": [
        {
          "output_type": "stream",
          "name": "stdout",
          "text": [
            "125/125 [==============================] - 1s 8ms/step - loss: 0.1768 - accuracy: 0.9883\n"
          ]
        },
        {
          "output_type": "execute_result",
          "data": {
            "text/plain": [
              "[0.17683285474777222, 0.9882500171661377]"
            ]
          },
          "metadata": {},
          "execution_count": 18
        }
      ]
    }
  ],
  "metadata": {
    "accelerator": "GPU",
    "colab": {
      "collapsed_sections": [],
      "name": "resnet50.ipynb",
      "provenance": []
    },
    "gpuClass": "standard",
    "kernelspec": {
      "display_name": "Python 3",
      "name": "python3"
    },
    "language_info": {
      "name": "python"
    }
  },
  "nbformat": 4,
  "nbformat_minor": 0
}